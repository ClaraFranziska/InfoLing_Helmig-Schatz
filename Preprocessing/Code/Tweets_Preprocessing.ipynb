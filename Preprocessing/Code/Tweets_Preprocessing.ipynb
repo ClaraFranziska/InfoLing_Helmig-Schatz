{
  "nbformat": 4,
  "nbformat_minor": 0,
  "metadata": {
    "colab": {
      "provenance": []
    },
    "kernelspec": {
      "name": "python3",
      "display_name": "Python 3"
    },
    "language_info": {
      "name": "python"
    }
  },
  "cells": [
    {
      "cell_type": "markdown",
      "source": [
        "# Tweets Preprocessing\n",
        "Damit wir eine ordentliche Auswertung der Twitter-Daten machen können müssen wir die Date zunächst mittel dem Text-Preprocessing bereinigen."
      ],
      "metadata": {
        "id": "PtRTGjnOPdsU"
      }
    },
    {
      "cell_type": "markdown",
      "source": [
        "Erstes Laden der benötigten Bibliotheken"
      ],
      "metadata": {
        "id": "ulN4wGkFP0Su"
      }
    },
    {
      "cell_type": "code",
      "execution_count": 1,
      "metadata": {
        "id": "E7nFEZBxMoiB"
      },
      "outputs": [],
      "source": [
        "import pandas as pd\n",
        "import nltk\n",
        "from nltk.corpus import stopwords\n",
        "from nltk.stem.porter import PorterStemmer"
      ]
    },
    {
      "cell_type": "markdown",
      "source": [
        "# Daten laden\n",
        "Wir holen uns unsere Daten der beiden Bundesländer.\n",
        "Damit wir den Vorgang nicht zweimal machen müssen hängen wir beide DataFrame zusammen. Um die beiden Datensätze später wieder ordentlich trennen zu können erstellen wir eine Spalte mit Label (1/0) für die jeweilige Himmelsrichtung."
      ],
      "metadata": {
        "id": "gc-u3tzZP4di"
      }
    },
    {
      "cell_type": "code",
      "source": [
        "df_westen=pd.read_csv('tweets_westen.zip')\n",
        "df_osten=pd.read_csv('tweets_osten.zip')"
      ],
      "metadata": {
        "id": "ucCJ4whnMt0H"
      },
      "execution_count": 2,
      "outputs": []
    },
    {
      "cell_type": "code",
      "source": [
        "df_westen['Label']='1'\n",
        "df_osten['Label']='0'"
      ],
      "metadata": {
        "id": "mztvcIIMM0iM"
      },
      "execution_count": 3,
      "outputs": []
    },
    {
      "cell_type": "markdown",
      "source": [
        "Wenn wir uns den DataFrame jetzt anschauen, sehen wir, dass die Daten am Anfang (West) Label=1 und die Daten am Ende (Ost) Label=0 haben."
      ],
      "metadata": {
        "id": "ummhmbNzgPnr"
      }
    },
    {
      "cell_type": "code",
      "source": [
        "df=pd.concat([df_westen, df_osten], axis=0)\n",
        "df.head()"
      ],
      "metadata": {
        "colab": {
          "base_uri": "https://localhost:8080/",
          "height": 206
        },
        "id": "BKNx1fjaM2TA",
        "outputId": "fbf4f805-98bd-4c28-c87e-b7535ecb286c"
      },
      "execution_count": 4,
      "outputs": [
        {
          "output_type": "execute_result",
          "data": {
            "text/plain": [
              "           Name                      Datum  \\\n",
              "0  @RegierungBW  2022-09-22 07:45:03+00:00   \n",
              "1  @RegierungBW  2022-09-22 07:31:26+00:00   \n",
              "2  @RegierungBW  2022-09-22 06:59:09+00:00   \n",
              "3  @RegierungBW  2022-09-21 11:52:04+00:00   \n",
              "4  @RegierungBW  2022-09-21 11:33:38+00:00   \n",
              "\n",
              "                                              Inhalt Label  \n",
              "0  @Schwabenhelga natürlich hat nicht jeder das G...     1  \n",
              "1  In manchem Keller verstecken sich wahre #Strom...     1  \n",
              "2  Auf unserem #Beteiligunsgsportal können Sie si...     1  \n",
              "3  @martinruff1 @UmweltBW Konkrete Ausbauziele fü...     1  \n",
              "4  Wir feiern unser #Juhubiläum mit #70Jahre70Köp...     1  "
            ],
            "text/html": [
              "\n",
              "  <div id=\"df-b3dcd44f-345b-400d-8e75-fa247fc2fb7a\">\n",
              "    <div class=\"colab-df-container\">\n",
              "      <div>\n",
              "<style scoped>\n",
              "    .dataframe tbody tr th:only-of-type {\n",
              "        vertical-align: middle;\n",
              "    }\n",
              "\n",
              "    .dataframe tbody tr th {\n",
              "        vertical-align: top;\n",
              "    }\n",
              "\n",
              "    .dataframe thead th {\n",
              "        text-align: right;\n",
              "    }\n",
              "</style>\n",
              "<table border=\"1\" class=\"dataframe\">\n",
              "  <thead>\n",
              "    <tr style=\"text-align: right;\">\n",
              "      <th></th>\n",
              "      <th>Name</th>\n",
              "      <th>Datum</th>\n",
              "      <th>Inhalt</th>\n",
              "      <th>Label</th>\n",
              "    </tr>\n",
              "  </thead>\n",
              "  <tbody>\n",
              "    <tr>\n",
              "      <th>0</th>\n",
              "      <td>@RegierungBW</td>\n",
              "      <td>2022-09-22 07:45:03+00:00</td>\n",
              "      <td>@Schwabenhelga natürlich hat nicht jeder das G...</td>\n",
              "      <td>1</td>\n",
              "    </tr>\n",
              "    <tr>\n",
              "      <th>1</th>\n",
              "      <td>@RegierungBW</td>\n",
              "      <td>2022-09-22 07:31:26+00:00</td>\n",
              "      <td>In manchem Keller verstecken sich wahre #Strom...</td>\n",
              "      <td>1</td>\n",
              "    </tr>\n",
              "    <tr>\n",
              "      <th>2</th>\n",
              "      <td>@RegierungBW</td>\n",
              "      <td>2022-09-22 06:59:09+00:00</td>\n",
              "      <td>Auf unserem #Beteiligunsgsportal können Sie si...</td>\n",
              "      <td>1</td>\n",
              "    </tr>\n",
              "    <tr>\n",
              "      <th>3</th>\n",
              "      <td>@RegierungBW</td>\n",
              "      <td>2022-09-21 11:52:04+00:00</td>\n",
              "      <td>@martinruff1 @UmweltBW Konkrete Ausbauziele fü...</td>\n",
              "      <td>1</td>\n",
              "    </tr>\n",
              "    <tr>\n",
              "      <th>4</th>\n",
              "      <td>@RegierungBW</td>\n",
              "      <td>2022-09-21 11:33:38+00:00</td>\n",
              "      <td>Wir feiern unser #Juhubiläum mit #70Jahre70Köp...</td>\n",
              "      <td>1</td>\n",
              "    </tr>\n",
              "  </tbody>\n",
              "</table>\n",
              "</div>\n",
              "      <button class=\"colab-df-convert\" onclick=\"convertToInteractive('df-b3dcd44f-345b-400d-8e75-fa247fc2fb7a')\"\n",
              "              title=\"Convert this dataframe to an interactive table.\"\n",
              "              style=\"display:none;\">\n",
              "        \n",
              "  <svg xmlns=\"http://www.w3.org/2000/svg\" height=\"24px\"viewBox=\"0 0 24 24\"\n",
              "       width=\"24px\">\n",
              "    <path d=\"M0 0h24v24H0V0z\" fill=\"none\"/>\n",
              "    <path d=\"M18.56 5.44l.94 2.06.94-2.06 2.06-.94-2.06-.94-.94-2.06-.94 2.06-2.06.94zm-11 1L8.5 8.5l.94-2.06 2.06-.94-2.06-.94L8.5 2.5l-.94 2.06-2.06.94zm10 10l.94 2.06.94-2.06 2.06-.94-2.06-.94-.94-2.06-.94 2.06-2.06.94z\"/><path d=\"M17.41 7.96l-1.37-1.37c-.4-.4-.92-.59-1.43-.59-.52 0-1.04.2-1.43.59L10.3 9.45l-7.72 7.72c-.78.78-.78 2.05 0 2.83L4 21.41c.39.39.9.59 1.41.59.51 0 1.02-.2 1.41-.59l7.78-7.78 2.81-2.81c.8-.78.8-2.07 0-2.86zM5.41 20L4 18.59l7.72-7.72 1.47 1.35L5.41 20z\"/>\n",
              "  </svg>\n",
              "      </button>\n",
              "      \n",
              "  <style>\n",
              "    .colab-df-container {\n",
              "      display:flex;\n",
              "      flex-wrap:wrap;\n",
              "      gap: 12px;\n",
              "    }\n",
              "\n",
              "    .colab-df-convert {\n",
              "      background-color: #E8F0FE;\n",
              "      border: none;\n",
              "      border-radius: 50%;\n",
              "      cursor: pointer;\n",
              "      display: none;\n",
              "      fill: #1967D2;\n",
              "      height: 32px;\n",
              "      padding: 0 0 0 0;\n",
              "      width: 32px;\n",
              "    }\n",
              "\n",
              "    .colab-df-convert:hover {\n",
              "      background-color: #E2EBFA;\n",
              "      box-shadow: 0px 1px 2px rgba(60, 64, 67, 0.3), 0px 1px 3px 1px rgba(60, 64, 67, 0.15);\n",
              "      fill: #174EA6;\n",
              "    }\n",
              "\n",
              "    [theme=dark] .colab-df-convert {\n",
              "      background-color: #3B4455;\n",
              "      fill: #D2E3FC;\n",
              "    }\n",
              "\n",
              "    [theme=dark] .colab-df-convert:hover {\n",
              "      background-color: #434B5C;\n",
              "      box-shadow: 0px 1px 3px 1px rgba(0, 0, 0, 0.15);\n",
              "      filter: drop-shadow(0px 1px 2px rgba(0, 0, 0, 0.3));\n",
              "      fill: #FFFFFF;\n",
              "    }\n",
              "  </style>\n",
              "\n",
              "      <script>\n",
              "        const buttonEl =\n",
              "          document.querySelector('#df-b3dcd44f-345b-400d-8e75-fa247fc2fb7a button.colab-df-convert');\n",
              "        buttonEl.style.display =\n",
              "          google.colab.kernel.accessAllowed ? 'block' : 'none';\n",
              "\n",
              "        async function convertToInteractive(key) {\n",
              "          const element = document.querySelector('#df-b3dcd44f-345b-400d-8e75-fa247fc2fb7a');\n",
              "          const dataTable =\n",
              "            await google.colab.kernel.invokeFunction('convertToInteractive',\n",
              "                                                     [key], {});\n",
              "          if (!dataTable) return;\n",
              "\n",
              "          const docLinkHtml = 'Like what you see? Visit the ' +\n",
              "            '<a target=\"_blank\" href=https://colab.research.google.com/notebooks/data_table.ipynb>data table notebook</a>'\n",
              "            + ' to learn more about interactive tables.';\n",
              "          element.innerHTML = '';\n",
              "          dataTable['output_type'] = 'display_data';\n",
              "          await google.colab.output.renderOutput(dataTable, element);\n",
              "          const docLink = document.createElement('div');\n",
              "          docLink.innerHTML = docLinkHtml;\n",
              "          element.appendChild(docLink);\n",
              "        }\n",
              "      </script>\n",
              "    </div>\n",
              "  </div>\n",
              "  "
            ]
          },
          "metadata": {},
          "execution_count": 4
        }
      ]
    },
    {
      "cell_type": "code",
      "source": [
        "df.tail()"
      ],
      "metadata": {
        "colab": {
          "base_uri": "https://localhost:8080/",
          "height": 206
        },
        "id": "7xua-iG-M6e7",
        "outputId": "c198bf4d-6ea0-41cb-c03d-0d334abedce7"
      },
      "execution_count": 5,
      "outputs": [
        {
          "output_type": "execute_result",
          "data": {
            "text/plain": [
              "                Name                      Datum  \\\n",
              "10960  @ThuerLandtag  2018-08-21 08:38:04+00:00   \n",
              "10961  @ThuerLandtag  2018-08-21 08:38:00+00:00   \n",
              "10962  @ThuerLandtag  2018-08-21 07:09:01+00:00   \n",
              "10963  @ThuerLandtag  2018-08-21 06:36:40+00:00   \n",
              "10964  @ThuerLandtag  2018-08-20 14:21:31+00:00   \n",
              "\n",
              "                                                  Inhalt Label  \n",
              "10960  RT @LPK_Thueringen: 1/1 LPK-Jour Fixe mit den ...     0  \n",
              "10961  RT @LPK_Thueringen: 1/2 LPK-Jour Fixe mit den ...     0  \n",
              "10962  @PaparazzoOrange Ja, die Dr.S. 6/5479 fehlte w...     0  \n",
              "10963  @PaparazzoOrange Hm, ja, das ist ja schon etwa...     0  \n",
              "10964  RT @TKinTH: Mit dabei sind Präsident @ThuerLan...     0  "
            ],
            "text/html": [
              "\n",
              "  <div id=\"df-f9864ca2-b270-4d1c-bd25-8d5ec09393be\">\n",
              "    <div class=\"colab-df-container\">\n",
              "      <div>\n",
              "<style scoped>\n",
              "    .dataframe tbody tr th:only-of-type {\n",
              "        vertical-align: middle;\n",
              "    }\n",
              "\n",
              "    .dataframe tbody tr th {\n",
              "        vertical-align: top;\n",
              "    }\n",
              "\n",
              "    .dataframe thead th {\n",
              "        text-align: right;\n",
              "    }\n",
              "</style>\n",
              "<table border=\"1\" class=\"dataframe\">\n",
              "  <thead>\n",
              "    <tr style=\"text-align: right;\">\n",
              "      <th></th>\n",
              "      <th>Name</th>\n",
              "      <th>Datum</th>\n",
              "      <th>Inhalt</th>\n",
              "      <th>Label</th>\n",
              "    </tr>\n",
              "  </thead>\n",
              "  <tbody>\n",
              "    <tr>\n",
              "      <th>10960</th>\n",
              "      <td>@ThuerLandtag</td>\n",
              "      <td>2018-08-21 08:38:04+00:00</td>\n",
              "      <td>RT @LPK_Thueringen: 1/1 LPK-Jour Fixe mit den ...</td>\n",
              "      <td>0</td>\n",
              "    </tr>\n",
              "    <tr>\n",
              "      <th>10961</th>\n",
              "      <td>@ThuerLandtag</td>\n",
              "      <td>2018-08-21 08:38:00+00:00</td>\n",
              "      <td>RT @LPK_Thueringen: 1/2 LPK-Jour Fixe mit den ...</td>\n",
              "      <td>0</td>\n",
              "    </tr>\n",
              "    <tr>\n",
              "      <th>10962</th>\n",
              "      <td>@ThuerLandtag</td>\n",
              "      <td>2018-08-21 07:09:01+00:00</td>\n",
              "      <td>@PaparazzoOrange Ja, die Dr.S. 6/5479 fehlte w...</td>\n",
              "      <td>0</td>\n",
              "    </tr>\n",
              "    <tr>\n",
              "      <th>10963</th>\n",
              "      <td>@ThuerLandtag</td>\n",
              "      <td>2018-08-21 06:36:40+00:00</td>\n",
              "      <td>@PaparazzoOrange Hm, ja, das ist ja schon etwa...</td>\n",
              "      <td>0</td>\n",
              "    </tr>\n",
              "    <tr>\n",
              "      <th>10964</th>\n",
              "      <td>@ThuerLandtag</td>\n",
              "      <td>2018-08-20 14:21:31+00:00</td>\n",
              "      <td>RT @TKinTH: Mit dabei sind Präsident @ThuerLan...</td>\n",
              "      <td>0</td>\n",
              "    </tr>\n",
              "  </tbody>\n",
              "</table>\n",
              "</div>\n",
              "      <button class=\"colab-df-convert\" onclick=\"convertToInteractive('df-f9864ca2-b270-4d1c-bd25-8d5ec09393be')\"\n",
              "              title=\"Convert this dataframe to an interactive table.\"\n",
              "              style=\"display:none;\">\n",
              "        \n",
              "  <svg xmlns=\"http://www.w3.org/2000/svg\" height=\"24px\"viewBox=\"0 0 24 24\"\n",
              "       width=\"24px\">\n",
              "    <path d=\"M0 0h24v24H0V0z\" fill=\"none\"/>\n",
              "    <path d=\"M18.56 5.44l.94 2.06.94-2.06 2.06-.94-2.06-.94-.94-2.06-.94 2.06-2.06.94zm-11 1L8.5 8.5l.94-2.06 2.06-.94-2.06-.94L8.5 2.5l-.94 2.06-2.06.94zm10 10l.94 2.06.94-2.06 2.06-.94-2.06-.94-.94-2.06-.94 2.06-2.06.94z\"/><path d=\"M17.41 7.96l-1.37-1.37c-.4-.4-.92-.59-1.43-.59-.52 0-1.04.2-1.43.59L10.3 9.45l-7.72 7.72c-.78.78-.78 2.05 0 2.83L4 21.41c.39.39.9.59 1.41.59.51 0 1.02-.2 1.41-.59l7.78-7.78 2.81-2.81c.8-.78.8-2.07 0-2.86zM5.41 20L4 18.59l7.72-7.72 1.47 1.35L5.41 20z\"/>\n",
              "  </svg>\n",
              "      </button>\n",
              "      \n",
              "  <style>\n",
              "    .colab-df-container {\n",
              "      display:flex;\n",
              "      flex-wrap:wrap;\n",
              "      gap: 12px;\n",
              "    }\n",
              "\n",
              "    .colab-df-convert {\n",
              "      background-color: #E8F0FE;\n",
              "      border: none;\n",
              "      border-radius: 50%;\n",
              "      cursor: pointer;\n",
              "      display: none;\n",
              "      fill: #1967D2;\n",
              "      height: 32px;\n",
              "      padding: 0 0 0 0;\n",
              "      width: 32px;\n",
              "    }\n",
              "\n",
              "    .colab-df-convert:hover {\n",
              "      background-color: #E2EBFA;\n",
              "      box-shadow: 0px 1px 2px rgba(60, 64, 67, 0.3), 0px 1px 3px 1px rgba(60, 64, 67, 0.15);\n",
              "      fill: #174EA6;\n",
              "    }\n",
              "\n",
              "    [theme=dark] .colab-df-convert {\n",
              "      background-color: #3B4455;\n",
              "      fill: #D2E3FC;\n",
              "    }\n",
              "\n",
              "    [theme=dark] .colab-df-convert:hover {\n",
              "      background-color: #434B5C;\n",
              "      box-shadow: 0px 1px 3px 1px rgba(0, 0, 0, 0.15);\n",
              "      filter: drop-shadow(0px 1px 2px rgba(0, 0, 0, 0.3));\n",
              "      fill: #FFFFFF;\n",
              "    }\n",
              "  </style>\n",
              "\n",
              "      <script>\n",
              "        const buttonEl =\n",
              "          document.querySelector('#df-f9864ca2-b270-4d1c-bd25-8d5ec09393be button.colab-df-convert');\n",
              "        buttonEl.style.display =\n",
              "          google.colab.kernel.accessAllowed ? 'block' : 'none';\n",
              "\n",
              "        async function convertToInteractive(key) {\n",
              "          const element = document.querySelector('#df-f9864ca2-b270-4d1c-bd25-8d5ec09393be');\n",
              "          const dataTable =\n",
              "            await google.colab.kernel.invokeFunction('convertToInteractive',\n",
              "                                                     [key], {});\n",
              "          if (!dataTable) return;\n",
              "\n",
              "          const docLinkHtml = 'Like what you see? Visit the ' +\n",
              "            '<a target=\"_blank\" href=https://colab.research.google.com/notebooks/data_table.ipynb>data table notebook</a>'\n",
              "            + ' to learn more about interactive tables.';\n",
              "          element.innerHTML = '';\n",
              "          dataTable['output_type'] = 'display_data';\n",
              "          await google.colab.output.renderOutput(dataTable, element);\n",
              "          const docLink = document.createElement('div');\n",
              "          docLink.innerHTML = docLinkHtml;\n",
              "          element.appendChild(docLink);\n",
              "        }\n",
              "      </script>\n",
              "    </div>\n",
              "  </div>\n",
              "  "
            ]
          },
          "metadata": {},
          "execution_count": 5
        }
      ]
    },
    {
      "cell_type": "markdown",
      "source": [
        "# Daten-Preprocessing"
      ],
      "metadata": {
        "id": "4LgWuc0Egdaw"
      }
    },
    {
      "cell_type": "markdown",
      "source": [
        "Der Preprocessing-Vorgang wurde eher händisch gemacht und nicht mit Spacy, da es hier erhebliche Probleme mit dem Datenformat PdDf gab.\n",
        "geklappt hat es mit folgender Lösungsvorlage: https://practicaldatascience.co.uk/machine-learning/how-to-preprocess-text-for-nlp-in-four-easy-steps.\n",
        "\n",
        "Grundsätzlich: Für die meisten Schritte wird zunächst eine Funktion entworfen, die dem jeweiligem Preprocessing-Schritt entspricht. Danach wird eine neue Spalte erstellt, deren Inhalt dann dem Inhalt der vorherigen Spalte entspricht, auf welchem aber die Funktion angewandt wurde."
      ],
      "metadata": {
        "id": "pEksZTizgqch"
      }
    },
    {
      "cell_type": "markdown",
      "source": [
        "# 1. Lower-Case\n"
      ],
      "metadata": {
        "id": "fhbuSFNRgl0g"
      }
    },
    {
      "cell_type": "code",
      "source": [
        "df['Inhalt']=df['Inhalt'].str.lower()"
      ],
      "metadata": {
        "id": "i-yUMv7cM9ol"
      },
      "execution_count": 6,
      "outputs": []
    },
    {
      "cell_type": "code",
      "source": [
        "df.head"
      ],
      "metadata": {
        "colab": {
          "base_uri": "https://localhost:8080/"
        },
        "id": "aQTKLlfANBGL",
        "outputId": "5b5d63a1-2b4d-494d-e9d8-69a2af3924df"
      },
      "execution_count": 7,
      "outputs": [
        {
          "output_type": "execute_result",
          "data": {
            "text/plain": [
              "<bound method NDFrame.head of                 Name                      Datum  \\\n",
              "0       @RegierungBW  2022-09-22 07:45:03+00:00   \n",
              "1       @RegierungBW  2022-09-22 07:31:26+00:00   \n",
              "2       @RegierungBW  2022-09-22 06:59:09+00:00   \n",
              "3       @RegierungBW  2022-09-21 11:52:04+00:00   \n",
              "4       @RegierungBW  2022-09-21 11:33:38+00:00   \n",
              "...              ...                        ...   \n",
              "10960  @ThuerLandtag  2018-08-21 08:38:04+00:00   \n",
              "10961  @ThuerLandtag  2018-08-21 08:38:00+00:00   \n",
              "10962  @ThuerLandtag  2018-08-21 07:09:01+00:00   \n",
              "10963  @ThuerLandtag  2018-08-21 06:36:40+00:00   \n",
              "10964  @ThuerLandtag  2018-08-20 14:21:31+00:00   \n",
              "\n",
              "                                                  Inhalt Label  \n",
              "0      @schwabenhelga natürlich hat nicht jeder das g...     1  \n",
              "1      in manchem keller verstecken sich wahre #strom...     1  \n",
              "2      auf unserem #beteiligunsgsportal können sie si...     1  \n",
              "3      @martinruff1 @umweltbw konkrete ausbauziele fü...     1  \n",
              "4      wir feiern unser #juhubiläum mit #70jahre70köp...     1  \n",
              "...                                                  ...   ...  \n",
              "10960  rt @lpk_thueringen: 1/1 lpk-jour fixe mit den ...     0  \n",
              "10961  rt @lpk_thueringen: 1/2 lpk-jour fixe mit den ...     0  \n",
              "10962  @paparazzoorange ja, die dr.s. 6/5479 fehlte w...     0  \n",
              "10963  @paparazzoorange hm, ja, das ist ja schon etwa...     0  \n",
              "10964  rt @tkinth: mit dabei sind präsident @thuerlan...     0  \n",
              "\n",
              "[41413 rows x 4 columns]>"
            ]
          },
          "metadata": {},
          "execution_count": 7
        }
      ]
    },
    {
      "cell_type": "markdown",
      "source": [
        "# 2. Tokenize"
      ],
      "metadata": {
        "id": "VlDV3iaNk1PI"
      }
    },
    {
      "cell_type": "code",
      "source": [
        "nltk.download('punkt')"
      ],
      "metadata": {
        "colab": {
          "base_uri": "https://localhost:8080/"
        },
        "id": "8NP3CDHiNFry",
        "outputId": "b9a55e7e-fc2e-4d64-f734-7f12c441c6ad"
      },
      "execution_count": 8,
      "outputs": [
        {
          "output_type": "stream",
          "name": "stderr",
          "text": [
            "[nltk_data] Downloading package punkt to /root/nltk_data...\n",
            "[nltk_data]   Unzipping tokenizers/punkt.zip.\n"
          ]
        },
        {
          "output_type": "execute_result",
          "data": {
            "text/plain": [
              "True"
            ]
          },
          "metadata": {},
          "execution_count": 8
        }
      ]
    },
    {
      "cell_type": "markdown",
      "source": [
        "Die folgende Funktion nimmt eine Spalte (Text) entgegen und wandelt jedes Element in ein Token um und gibt sie als Inhalt einer Liste wieder."
      ],
      "metadata": {
        "id": "VFYh4vE-nWMH"
      }
    },
    {
      "cell_type": "code",
      "source": [
        "def tokenize(column):\n",
        "  tokens=nltk.word_tokenize(column)\n",
        "  return[w for w in tokens if w.isalpha()]"
      ],
      "metadata": {
        "id": "JlZs22xxNH45"
      },
      "execution_count": 9,
      "outputs": []
    },
    {
      "cell_type": "markdown",
      "source": [
        "Wir übergeben der Funktion mit lambda eine Spalte (Inhalt) und führen die Funktion aus. Das Ergebnis wird in einer neuen Spalte gespeichert."
      ],
      "metadata": {
        "id": "S03dfswMnmcp"
      }
    },
    {
      "cell_type": "code",
      "source": [
        "df['tokenized']=df.apply(lambda x: tokenize(x['Inhalt']), axis=1)\n",
        "df[['Inhalt', 'tokenized']].head"
      ],
      "metadata": {
        "colab": {
          "base_uri": "https://localhost:8080/"
        },
        "id": "J4uBcnLFNJ25",
        "outputId": "8323dc2c-f664-4d83-838b-8aa6c1a0528f"
      },
      "execution_count": 10,
      "outputs": [
        {
          "output_type": "execute_result",
          "data": {
            "text/plain": [
              "<bound method NDFrame.head of                                                   Inhalt  \\\n",
              "0      @schwabenhelga natürlich hat nicht jeder das g...   \n",
              "1      in manchem keller verstecken sich wahre #strom...   \n",
              "2      auf unserem #beteiligunsgsportal können sie si...   \n",
              "3      @martinruff1 @umweltbw konkrete ausbauziele fü...   \n",
              "4      wir feiern unser #juhubiläum mit #70jahre70köp...   \n",
              "...                                                  ...   \n",
              "10960  rt @lpk_thueringen: 1/1 lpk-jour fixe mit den ...   \n",
              "10961  rt @lpk_thueringen: 1/2 lpk-jour fixe mit den ...   \n",
              "10962  @paparazzoorange ja, die dr.s. 6/5479 fehlte w...   \n",
              "10963  @paparazzoorange hm, ja, das ist ja schon etwa...   \n",
              "10964  rt @tkinth: mit dabei sind präsident @thuerlan...   \n",
              "\n",
              "                                               tokenized  \n",
              "0      [schwabenhelga, natürlich, hat, nicht, jeder, ...  \n",
              "1      [in, manchem, keller, verstecken, sich, wahre,...  \n",
              "2      [auf, unserem, beteiligunsgsportal, können, si...  \n",
              "3      [umweltbw, konkrete, ausbauziele, für, die, ko...  \n",
              "4      [wir, feiern, unser, juhubiläum, mit, heute, s...  \n",
              "...                                                  ...  \n",
              "10960  [rt, fixe, mit, den, thuerlandtag, fraktionsvo...  \n",
              "10961  [rt, fixe, mit, den, thuerlandtag, fraktionen,...  \n",
              "10962  [paparazzoorange, ja, die, fehlte, wirklich, d...  \n",
              "10963  [paparazzoorange, hm, ja, das, ist, ja, schon,...  \n",
              "10964  [rt, tkinth, mit, dabei, sind, präsident, thue...  \n",
              "\n",
              "[41413 rows x 2 columns]>"
            ]
          },
          "metadata": {},
          "execution_count": 10
        }
      ]
    },
    {
      "cell_type": "markdown",
      "source": [
        "# 3. Stopwords-Remove"
      ],
      "metadata": {
        "id": "EnqYgOswk6Sh"
      }
    },
    {
      "cell_type": "markdown",
      "source": [
        "Dieser Schritt ist für unsere Zwecke am aufwendigsten.\\\n",
        "*Möglich, dass es hierfür einen einfacheren Weg gibt, aber das ist die Lösung, die für uns sehr gut passt.*"
      ],
      "metadata": {
        "id": "Rgxao684k84n"
      }
    },
    {
      "cell_type": "code",
      "source": [
        "nltk. download('stopwords')"
      ],
      "metadata": {
        "colab": {
          "base_uri": "https://localhost:8080/"
        },
        "id": "oMZEytqNNMNY",
        "outputId": "dd2e443a-4574-46da-8004-67f7b1a88b70"
      },
      "execution_count": 11,
      "outputs": [
        {
          "output_type": "stream",
          "name": "stderr",
          "text": [
            "[nltk_data] Downloading package stopwords to /root/nltk_data...\n",
            "[nltk_data]   Unzipping corpora/stopwords.zip.\n"
          ]
        },
        {
          "output_type": "execute_result",
          "data": {
            "text/plain": [
              "True"
            ]
          },
          "metadata": {},
          "execution_count": 11
        }
      ]
    },
    {
      "cell_type": "markdown",
      "source": [
        "Um später eine ordentliche Auswertung der Topics zu bekommen müssen hier einige Wörter herausgefiltert werden. Dazu gehören z.B. Wochentage, Uhrzeiten, Monate (Wahlmonate), alle Namen der Landtagspräsident*innen, Parteien, Bundesländer etc.\n",
        "\n",
        "Dementsprechend haben wir 3 verschiedene Stopwordlisten.\n",
        "1. nltk-stopwords\n",
        "2. custom_stopwords: Wörter, die genauso, wie sie in der Stopwordliste stehen entfernt werden sollen\n",
        "3. hardstops: Wörter, die so oder so ähnlich entfernt werden sollen.\n",
        "Beispiel: Wir wollen keine Wörter die etwas mit 'bayern' zu tun haben im DF. Da 'bayern' aber in den verschiedensten Formen (bayern, bayerisch, altbayern) vorkommen kann, filtern wir alle Wörter, die 'bayer' beinhalten. Hierzu benötigen wir eine Liste und eine Funktion."
      ],
      "metadata": {
        "id": "0_6OMUvhlERA"
      }
    },
    {
      "cell_type": "code",
      "source": [
        "nltk_stopwords=stopwords.words('german')\n",
        "custom_stopwords=['plenar','regierung', 'präsident',\\\n",
        "                  'präsidentin', 'abgeordnete', 'plenarsitzung', 'uhr', 'ab', 'wenn'\\\n",
        "                  'geht', 'maximilianeum', 'morgen', 'montag', 'dienstag', 'mittwoch'\\\n",
        "                  'donnerstag', 'freitag', 'samstag', 'sonntag', 'gibt', 'mehr', 'erste', 'zweite',\\\n",
        "                  'mal', 'plenum', 'wurde', 'jahr', 'jahre', 'zeit', 'steht', 'statt', 'november'\\\n",
        "                  'jahren', 'mediakthek', 'ilse', 'aigner', 'barbara', 'stamm', 'muhterem', 'aras', 'dennis', 'buchner', \\\n",
        "                  'ulrike', 'liedtke', 'frank', 'imhoff', 'carola', 'veit', 'astrid', 'wallmann', 'brigit', 'hesse', 'gebriele', \\\n",
        "                  'andretta', 'andré', 'kuper', 'hendrik', 'hering', 'heike', 'becker', 'matthias', 'rößler', 'roeßler', 'gunnar', \\\n",
        "                  'schellenberger', 'kristina', 'herbst', 'birgit', 'pommer', 'amp', 'geht', 'der', 'die', 'das', 'und', 'agh', 'hlt', 'ilseaigner',\\\n",
        "                  'beim' , 'bei']\n",
        "stopword_liste=nltk_stopwords+custom_stopwords\n",
        "hardstops=['bayer', 'by', 'rbb', 'baden', 'bawü', 'bw', 'berlin', 'brandenburg', 'bd', 'br', 'bremen', 'hh', 'hamburg',\\\n",
        "             'hessen', 'mecklenburg', 'meckpom', 'mv', 'niedersachsen', 'nordrheinwestfalen', 'nrw', 'rheinlandpfalz', 'rlp', \\\n",
        "             'rp', 'saar', 'sl', 'sachsen', 'sachsen-anhalt', 'anhalt', 'schleswigholstein', 'sh', 'thuer', 'thüringen',\\\n",
        "             'live', 'media', 'stream', 'sitz','uns', 'rt', 'cdu', 'csu', 'afd', 'grüne', 'gruene', 'fdp', 'fw', 'tweet', 'twitter',\\\n",
        "             'service', 'landtag', 'sitzung', 'heut', 'them','htt', 'aktue', 'stund', 'jahr', 'ltnd', 'frakt', 'tag', 'rund' ]"
      ],
      "metadata": {
        "id": "Zf-A_AVUNObF"
      },
      "execution_count": 36,
      "outputs": []
    },
    {
      "cell_type": "markdown",
      "source": [
        "Der Funktion enthalten werden 3 Parameter übergeben: ein wort, die erste Stopwortliste (bestehend aus nltk und custom) und die zweite Stopwortliste.\n",
        "Die Funktion prüft, ob das zu prüfende Wort zunächst in der Stopwordliste  und und dann, ob es in irgendeiner Form in der hardstops-liste ist.\n",
        "\n",
        "Folgendes zum Verständnis:\n",
        "raus=stops=set(stopword_liste)=nltk_stopwordliste+custom_stopwords\n",
        "hartraus=hardstops"
      ],
      "metadata": {
        "id": "SDdEazRIn4KQ"
      }
    },
    {
      "cell_type": "code",
      "source": [
        "def enthalten(wort,raus,hartraus):\n",
        "  temp=False\n",
        "  for x in raus:\n",
        "    if wort==x:\n",
        "      temp=True\n",
        "  for x in hartraus:\n",
        "    if wort.find(x) != -1:\n",
        "      temp=True\n",
        "  return temp"
      ],
      "metadata": {
        "id": "B3ZqSb_BNQql"
      },
      "execution_count": 37,
      "outputs": []
    },
    {
      "cell_type": "markdown",
      "source": [
        "In der zweiten Funktion werden nur Worte wiedergegeben, die nicht in der ersten Funktion gefiltert werden, also alle zu behaltenden Worte."
      ],
      "metadata": {
        "id": "1dbMvm_UsnG-"
      }
    },
    {
      "cell_type": "code",
      "source": [
        "def remove_stopwords(tokenized_column):\n",
        "  stops=set(stopword_liste)\n",
        "  return[word for word in tokenized_column if not enthalten(word,stops,hardstops)]"
      ],
      "metadata": {
        "id": "69ro76Utfkgw"
      },
      "execution_count": 38,
      "outputs": []
    },
    {
      "cell_type": "markdown",
      "source": [
        "Wir erstellen als wieder eine neue Spalte, die aus dem Inhalt der vorherigen Spalte basiert, auf welchem die Funktion angewendet wird."
      ],
      "metadata": {
        "id": "1hdRW7HptVV9"
      }
    },
    {
      "cell_type": "code",
      "source": [
        "df['stopword_removed']=df.apply(lambda x: remove_stopwords(x['tokenized']), axis=1)\n",
        "df[['tokenized', 'stopword_removed']].head"
      ],
      "metadata": {
        "colab": {
          "base_uri": "https://localhost:8080/"
        },
        "id": "sGZtMN0yNSrJ",
        "outputId": "2da6f7f7-7c25-41a2-903b-ff6f1c03224c"
      },
      "execution_count": 39,
      "outputs": [
        {
          "output_type": "execute_result",
          "data": {
            "text/plain": [
              "<bound method NDFrame.head of                                                tokenized  \\\n",
              "0      [schwabenhelga, natürlich, hat, nicht, jeder, ...   \n",
              "1      [in, manchem, keller, verstecken, sich, wahre,...   \n",
              "2      [auf, unserem, beteiligunsgsportal, können, si...   \n",
              "3      [umweltbw, konkrete, ausbauziele, für, die, ko...   \n",
              "4      [wir, feiern, unser, juhubiläum, mit, heute, s...   \n",
              "...                                                  ...   \n",
              "10960  [rt, fixe, mit, den, thuerlandtag, fraktionsvo...   \n",
              "10961  [rt, fixe, mit, den, thuerlandtag, fraktionen,...   \n",
              "10962  [paparazzoorange, ja, die, fehlte, wirklich, d...   \n",
              "10963  [paparazzoorange, hm, ja, das, ist, ja, schon,...   \n",
              "10964  [rt, tkinth, mit, dabei, sind, präsident, thue...   \n",
              "\n",
              "                                        stopword_removed  \n",
              "0      [schwabenhelga, natürlich, geld, möglichkeit, ...  \n",
              "1      [keller, verstecken, wahre, stromfresser, heiz...  \n",
              "2      [online, neunen, klimaschutzgesetz, bürgerbete...  \n",
              "3      [konkrete, ausbauziele, kommenden, land, baut,...  \n",
              "4      [feiern, juhubiläum, stellen, sophie, heinz, l...  \n",
              "...                                                  ...  \n",
              "10960                          [fixe, august, folgenden]  \n",
              "10961         [fixe, august, reihenfolge, susannehennig]  \n",
              "10962  [paparazzoorange, ja, fehlte, wirklich, dafür,...  \n",
              "10963  [paparazzoorange, hm, ja, ja, schon, her, stim...  \n",
              "10964  [tkinth, dabei, carius, gesundheitsministerin,...  \n",
              "\n",
              "[41413 rows x 2 columns]>"
            ]
          },
          "metadata": {},
          "execution_count": 39
        }
      ]
    },
    {
      "cell_type": "markdown",
      "source": [
        "# 4. Stemming\n",
        "Das Stemming sorgt dafür, dass die Anzahl der verschiedenen Formen eines Wortes vereinheitlicht werden und somit weniger verschiedene Lesemöglichkeiten für das Model später vorhanden sind. (Im Grunde werden die Enden eines Wortes abgeschnitte um zu einer Ursprungsform zu gelangen.)\n",
        "\n",
        "Funktionsweise der Funktionen siehe 2. Tokenize."
      ],
      "metadata": {
        "id": "qEVargdctgVC"
      }
    },
    {
      "cell_type": "code",
      "source": [
        "def apply_stemming(tokenized_column):\n",
        "  stemmer = PorterStemmer() \n",
        "  return [stemmer.stem(word) for word in tokenized_column]"
      ],
      "metadata": {
        "id": "zItyLyuBNU7X"
      },
      "execution_count": 26,
      "outputs": []
    },
    {
      "cell_type": "code",
      "source": [
        "df['porter_stemmed']=df.apply(lambda x: apply_stemming(x['stopword_removed']), axis=1)\n",
        "df[['stopword_removed', 'porter_stemmed']].head"
      ],
      "metadata": {
        "colab": {
          "base_uri": "https://localhost:8080/"
        },
        "id": "Kwa2HOZNNW-s",
        "outputId": "3d7a3db5-2efa-47b1-d99c-b73fb384c13f"
      },
      "execution_count": 27,
      "outputs": [
        {
          "output_type": "execute_result",
          "data": {
            "text/plain": [
              "<bound method NDFrame.head of                                         stopword_removed  \\\n",
              "0      [schwabenhelga, natürlich, geld, möglichkeit, ...   \n",
              "1      [keller, verstecken, wahre, stromfresser, heiz...   \n",
              "2      [online, neunen, klimaschutzgesetz, bürgerbete...   \n",
              "3      [konkrete, ausbauziele, kommenden, land, baut,...   \n",
              "4      [feiern, juhubiläum, stellen, sophie, heinz, l...   \n",
              "...                                                  ...   \n",
              "10960                          [fixe, august, folgenden]   \n",
              "10961         [fixe, august, reihenfolge, susannehennig]   \n",
              "10962  [paparazzoorange, ja, fehlte, wirklich, dafür,...   \n",
              "10963  [paparazzoorange, hm, ja, ja, schon, her, stim...   \n",
              "10964  [tkinth, dabei, carius, gesundheitsministerin,...   \n",
              "\n",
              "                                          porter_stemmed  \n",
              "0      [schwabenhelga, natürlich, geld, möglichkeit, ...  \n",
              "1      [keller, verstecken, wahr, stromfress, heizung...  \n",
              "2      [onlin, neunen, klimaschutzgesetz, bürgerbetei...  \n",
              "3      [konkret, ausbauziel, kommenden, land, baut, j...  \n",
              "4      [feiern, juhubiläum, stellen, sophi, heinz, li...  \n",
              "...                                                  ...  \n",
              "10960                           [fix, august, folgenden]  \n",
              "10961           [fix, august, reihenfolg, susannehennig]  \n",
              "10962  [paparazzoorang, ja, fehlt, wirklich, dafür, l...  \n",
              "10963  [paparazzoorang, hm, ja, ja, schon, her, stimm...  \n",
              "10964  [tkinth, dabei, cariu, gesundheitsministerin, ...  \n",
              "\n",
              "[41413 rows x 2 columns]>"
            ]
          },
          "metadata": {},
          "execution_count": 27
        }
      ]
    },
    {
      "cell_type": "markdown",
      "source": [
        "# Datentyp ändern\n",
        "Da wir wenig mit Listen im DF anfangen können, müssen wir die Tokenz und Listen wieder umwandeln. Wir müssen den Zusammenhang in den Zeilen (Tweets) wieder herstellen. Deshalb wandeln wir es um und trennen jeses Wort mit einem Leerzeichen."
      ],
      "metadata": {
        "id": "WcHpK6CDuKBf"
      }
    },
    {
      "cell_type": "code",
      "source": [
        "def rejoined_words(tokenized_column):\n",
        "  return (\" \".join(tokenized_column))"
      ],
      "metadata": {
        "id": "AdGSoYGMNYo6"
      },
      "execution_count": 28,
      "outputs": []
    },
    {
      "cell_type": "code",
      "source": [
        "df['rejoined']=df.apply(lambda x: rejoined_words(x['porter_stemmed']), axis=1)\n",
        "df[['porter_stemmed', 'rejoined']].head"
      ],
      "metadata": {
        "colab": {
          "base_uri": "https://localhost:8080/"
        },
        "id": "E5mv-Xg_Na4s",
        "outputId": "d1231ac0-5655-457e-a420-82611f3ec460"
      },
      "execution_count": 29,
      "outputs": [
        {
          "output_type": "execute_result",
          "data": {
            "text/plain": [
              "<bound method NDFrame.head of                                           porter_stemmed  \\\n",
              "0      [schwabenhelga, natürlich, geld, möglichkeit, ...   \n",
              "1      [keller, verstecken, wahr, stromfress, heizung...   \n",
              "2      [onlin, neunen, klimaschutzgesetz, bürgerbetei...   \n",
              "3      [konkret, ausbauziel, kommenden, land, baut, j...   \n",
              "4      [feiern, juhubiläum, stellen, sophi, heinz, li...   \n",
              "...                                                  ...   \n",
              "10960                           [fix, august, folgenden]   \n",
              "10961           [fix, august, reihenfolg, susannehennig]   \n",
              "10962  [paparazzoorang, ja, fehlt, wirklich, dafür, l...   \n",
              "10963  [paparazzoorang, hm, ja, ja, schon, her, stimm...   \n",
              "10964  [tkinth, dabei, cariu, gesundheitsministerin, ...   \n",
              "\n",
              "                                                rejoined  \n",
              "0      schwabenhelga natürlich geld möglichkeit dieje...  \n",
              "1      keller verstecken wahr stromfress heizungspump...  \n",
              "2      onlin neunen klimaschutzgesetz bürgerbeteiligu...  \n",
              "3      konkret ausbauziel kommenden land baut ja wind...  \n",
              "4      feiern juhubiläum stellen sophi heinz liebt di...  \n",
              "...                                                  ...  \n",
              "10960                               fix august folgenden  \n",
              "10961                fix august reihenfolg susannehennig  \n",
              "10962  paparazzoorang ja fehlt wirklich dafür läßt le...  \n",
              "10963  paparazzoorang hm ja ja schon her stimmt frage...  \n",
              "10964    tkinth dabei cariu gesundheitsministerin mdb tk  \n",
              "\n",
              "[41413 rows x 2 columns]>"
            ]
          },
          "metadata": {},
          "execution_count": 29
        }
      ]
    },
    {
      "cell_type": "markdown",
      "source": [
        "# DataFrame wieder trennen\n",
        "Für die Weiterverarbeitung müssen wir die Tweets wieder nach Ost und West trennen. Hierzu nutzen wir die zuerst eingefügten Label"
      ],
      "metadata": {
        "id": "pbjETjE8uovP"
      }
    },
    {
      "cell_type": "code",
      "source": [
        "df['Label']=pd.to_numeric(df['Label'])"
      ],
      "metadata": {
        "id": "aC-LHLThNdd4"
      },
      "execution_count": 30,
      "outputs": []
    },
    {
      "cell_type": "code",
      "source": [
        "df_westen=df[df['Label']>=1]\n",
        "df_osten=df[df['Label']<1]"
      ],
      "metadata": {
        "id": "fGGbovuWNfxI"
      },
      "execution_count": 31,
      "outputs": []
    },
    {
      "cell_type": "code",
      "source": [
        "df_westen.head()"
      ],
      "metadata": {
        "colab": {
          "base_uri": "https://localhost:8080/",
          "height": 337
        },
        "id": "gLtfVxyzNkk1",
        "outputId": "caa5b505-1306-49e0-9c0b-9b1752f95940"
      },
      "execution_count": 32,
      "outputs": [
        {
          "output_type": "execute_result",
          "data": {
            "text/plain": [
              "           Name                      Datum  \\\n",
              "0  @RegierungBW  2022-09-22 07:45:03+00:00   \n",
              "1  @RegierungBW  2022-09-22 07:31:26+00:00   \n",
              "2  @RegierungBW  2022-09-22 06:59:09+00:00   \n",
              "3  @RegierungBW  2022-09-21 11:52:04+00:00   \n",
              "4  @RegierungBW  2022-09-21 11:33:38+00:00   \n",
              "\n",
              "                                              Inhalt  Label  \\\n",
              "0  @schwabenhelga natürlich hat nicht jeder das g...      1   \n",
              "1  in manchem keller verstecken sich wahre #strom...      1   \n",
              "2  auf unserem #beteiligunsgsportal können sie si...      1   \n",
              "3  @martinruff1 @umweltbw konkrete ausbauziele fü...      1   \n",
              "4  wir feiern unser #juhubiläum mit #70jahre70köp...      1   \n",
              "\n",
              "                                           tokenized  \\\n",
              "0  [schwabenhelga, natürlich, hat, nicht, jeder, ...   \n",
              "1  [in, manchem, keller, verstecken, sich, wahre,...   \n",
              "2  [auf, unserem, beteiligunsgsportal, können, si...   \n",
              "3  [umweltbw, konkrete, ausbauziele, für, die, ko...   \n",
              "4  [wir, feiern, unser, juhubiläum, mit, heute, s...   \n",
              "\n",
              "                                    stopword_removed  \\\n",
              "0  [schwabenhelga, natürlich, geld, möglichkeit, ...   \n",
              "1  [keller, verstecken, wahre, stromfresser, heiz...   \n",
              "2  [online, neunen, klimaschutzgesetz, bürgerbete...   \n",
              "3  [konkrete, ausbauziele, kommenden, land, baut,...   \n",
              "4  [feiern, juhubiläum, stellen, sophie, heinz, l...   \n",
              "\n",
              "                                      porter_stemmed  \\\n",
              "0  [schwabenhelga, natürlich, geld, möglichkeit, ...   \n",
              "1  [keller, verstecken, wahr, stromfress, heizung...   \n",
              "2  [onlin, neunen, klimaschutzgesetz, bürgerbetei...   \n",
              "3  [konkret, ausbauziel, kommenden, land, baut, j...   \n",
              "4  [feiern, juhubiläum, stellen, sophi, heinz, li...   \n",
              "\n",
              "                                            rejoined  \n",
              "0  schwabenhelga natürlich geld möglichkeit dieje...  \n",
              "1  keller verstecken wahr stromfress heizungspump...  \n",
              "2  onlin neunen klimaschutzgesetz bürgerbeteiligu...  \n",
              "3  konkret ausbauziel kommenden land baut ja wind...  \n",
              "4  feiern juhubiläum stellen sophi heinz liebt di...  "
            ],
            "text/html": [
              "\n",
              "  <div id=\"df-2973e328-0ee3-43f7-81ae-4975e5e37313\">\n",
              "    <div class=\"colab-df-container\">\n",
              "      <div>\n",
              "<style scoped>\n",
              "    .dataframe tbody tr th:only-of-type {\n",
              "        vertical-align: middle;\n",
              "    }\n",
              "\n",
              "    .dataframe tbody tr th {\n",
              "        vertical-align: top;\n",
              "    }\n",
              "\n",
              "    .dataframe thead th {\n",
              "        text-align: right;\n",
              "    }\n",
              "</style>\n",
              "<table border=\"1\" class=\"dataframe\">\n",
              "  <thead>\n",
              "    <tr style=\"text-align: right;\">\n",
              "      <th></th>\n",
              "      <th>Name</th>\n",
              "      <th>Datum</th>\n",
              "      <th>Inhalt</th>\n",
              "      <th>Label</th>\n",
              "      <th>tokenized</th>\n",
              "      <th>stopword_removed</th>\n",
              "      <th>porter_stemmed</th>\n",
              "      <th>rejoined</th>\n",
              "    </tr>\n",
              "  </thead>\n",
              "  <tbody>\n",
              "    <tr>\n",
              "      <th>0</th>\n",
              "      <td>@RegierungBW</td>\n",
              "      <td>2022-09-22 07:45:03+00:00</td>\n",
              "      <td>@schwabenhelga natürlich hat nicht jeder das g...</td>\n",
              "      <td>1</td>\n",
              "      <td>[schwabenhelga, natürlich, hat, nicht, jeder, ...</td>\n",
              "      <td>[schwabenhelga, natürlich, geld, möglichkeit, ...</td>\n",
              "      <td>[schwabenhelga, natürlich, geld, möglichkeit, ...</td>\n",
              "      <td>schwabenhelga natürlich geld möglichkeit dieje...</td>\n",
              "    </tr>\n",
              "    <tr>\n",
              "      <th>1</th>\n",
              "      <td>@RegierungBW</td>\n",
              "      <td>2022-09-22 07:31:26+00:00</td>\n",
              "      <td>in manchem keller verstecken sich wahre #strom...</td>\n",
              "      <td>1</td>\n",
              "      <td>[in, manchem, keller, verstecken, sich, wahre,...</td>\n",
              "      <td>[keller, verstecken, wahre, stromfresser, heiz...</td>\n",
              "      <td>[keller, verstecken, wahr, stromfress, heizung...</td>\n",
              "      <td>keller verstecken wahr stromfress heizungspump...</td>\n",
              "    </tr>\n",
              "    <tr>\n",
              "      <th>2</th>\n",
              "      <td>@RegierungBW</td>\n",
              "      <td>2022-09-22 06:59:09+00:00</td>\n",
              "      <td>auf unserem #beteiligunsgsportal können sie si...</td>\n",
              "      <td>1</td>\n",
              "      <td>[auf, unserem, beteiligunsgsportal, können, si...</td>\n",
              "      <td>[online, neunen, klimaschutzgesetz, bürgerbete...</td>\n",
              "      <td>[onlin, neunen, klimaschutzgesetz, bürgerbetei...</td>\n",
              "      <td>onlin neunen klimaschutzgesetz bürgerbeteiligu...</td>\n",
              "    </tr>\n",
              "    <tr>\n",
              "      <th>3</th>\n",
              "      <td>@RegierungBW</td>\n",
              "      <td>2022-09-21 11:52:04+00:00</td>\n",
              "      <td>@martinruff1 @umweltbw konkrete ausbauziele fü...</td>\n",
              "      <td>1</td>\n",
              "      <td>[umweltbw, konkrete, ausbauziele, für, die, ko...</td>\n",
              "      <td>[konkrete, ausbauziele, kommenden, land, baut,...</td>\n",
              "      <td>[konkret, ausbauziel, kommenden, land, baut, j...</td>\n",
              "      <td>konkret ausbauziel kommenden land baut ja wind...</td>\n",
              "    </tr>\n",
              "    <tr>\n",
              "      <th>4</th>\n",
              "      <td>@RegierungBW</td>\n",
              "      <td>2022-09-21 11:33:38+00:00</td>\n",
              "      <td>wir feiern unser #juhubiläum mit #70jahre70köp...</td>\n",
              "      <td>1</td>\n",
              "      <td>[wir, feiern, unser, juhubiläum, mit, heute, s...</td>\n",
              "      <td>[feiern, juhubiläum, stellen, sophie, heinz, l...</td>\n",
              "      <td>[feiern, juhubiläum, stellen, sophi, heinz, li...</td>\n",
              "      <td>feiern juhubiläum stellen sophi heinz liebt di...</td>\n",
              "    </tr>\n",
              "  </tbody>\n",
              "</table>\n",
              "</div>\n",
              "      <button class=\"colab-df-convert\" onclick=\"convertToInteractive('df-2973e328-0ee3-43f7-81ae-4975e5e37313')\"\n",
              "              title=\"Convert this dataframe to an interactive table.\"\n",
              "              style=\"display:none;\">\n",
              "        \n",
              "  <svg xmlns=\"http://www.w3.org/2000/svg\" height=\"24px\"viewBox=\"0 0 24 24\"\n",
              "       width=\"24px\">\n",
              "    <path d=\"M0 0h24v24H0V0z\" fill=\"none\"/>\n",
              "    <path d=\"M18.56 5.44l.94 2.06.94-2.06 2.06-.94-2.06-.94-.94-2.06-.94 2.06-2.06.94zm-11 1L8.5 8.5l.94-2.06 2.06-.94-2.06-.94L8.5 2.5l-.94 2.06-2.06.94zm10 10l.94 2.06.94-2.06 2.06-.94-2.06-.94-.94-2.06-.94 2.06-2.06.94z\"/><path d=\"M17.41 7.96l-1.37-1.37c-.4-.4-.92-.59-1.43-.59-.52 0-1.04.2-1.43.59L10.3 9.45l-7.72 7.72c-.78.78-.78 2.05 0 2.83L4 21.41c.39.39.9.59 1.41.59.51 0 1.02-.2 1.41-.59l7.78-7.78 2.81-2.81c.8-.78.8-2.07 0-2.86zM5.41 20L4 18.59l7.72-7.72 1.47 1.35L5.41 20z\"/>\n",
              "  </svg>\n",
              "      </button>\n",
              "      \n",
              "  <style>\n",
              "    .colab-df-container {\n",
              "      display:flex;\n",
              "      flex-wrap:wrap;\n",
              "      gap: 12px;\n",
              "    }\n",
              "\n",
              "    .colab-df-convert {\n",
              "      background-color: #E8F0FE;\n",
              "      border: none;\n",
              "      border-radius: 50%;\n",
              "      cursor: pointer;\n",
              "      display: none;\n",
              "      fill: #1967D2;\n",
              "      height: 32px;\n",
              "      padding: 0 0 0 0;\n",
              "      width: 32px;\n",
              "    }\n",
              "\n",
              "    .colab-df-convert:hover {\n",
              "      background-color: #E2EBFA;\n",
              "      box-shadow: 0px 1px 2px rgba(60, 64, 67, 0.3), 0px 1px 3px 1px rgba(60, 64, 67, 0.15);\n",
              "      fill: #174EA6;\n",
              "    }\n",
              "\n",
              "    [theme=dark] .colab-df-convert {\n",
              "      background-color: #3B4455;\n",
              "      fill: #D2E3FC;\n",
              "    }\n",
              "\n",
              "    [theme=dark] .colab-df-convert:hover {\n",
              "      background-color: #434B5C;\n",
              "      box-shadow: 0px 1px 3px 1px rgba(0, 0, 0, 0.15);\n",
              "      filter: drop-shadow(0px 1px 2px rgba(0, 0, 0, 0.3));\n",
              "      fill: #FFFFFF;\n",
              "    }\n",
              "  </style>\n",
              "\n",
              "      <script>\n",
              "        const buttonEl =\n",
              "          document.querySelector('#df-2973e328-0ee3-43f7-81ae-4975e5e37313 button.colab-df-convert');\n",
              "        buttonEl.style.display =\n",
              "          google.colab.kernel.accessAllowed ? 'block' : 'none';\n",
              "\n",
              "        async function convertToInteractive(key) {\n",
              "          const element = document.querySelector('#df-2973e328-0ee3-43f7-81ae-4975e5e37313');\n",
              "          const dataTable =\n",
              "            await google.colab.kernel.invokeFunction('convertToInteractive',\n",
              "                                                     [key], {});\n",
              "          if (!dataTable) return;\n",
              "\n",
              "          const docLinkHtml = 'Like what you see? Visit the ' +\n",
              "            '<a target=\"_blank\" href=https://colab.research.google.com/notebooks/data_table.ipynb>data table notebook</a>'\n",
              "            + ' to learn more about interactive tables.';\n",
              "          element.innerHTML = '';\n",
              "          dataTable['output_type'] = 'display_data';\n",
              "          await google.colab.output.renderOutput(dataTable, element);\n",
              "          const docLink = document.createElement('div');\n",
              "          docLink.innerHTML = docLinkHtml;\n",
              "          element.appendChild(docLink);\n",
              "        }\n",
              "      </script>\n",
              "    </div>\n",
              "  </div>\n",
              "  "
            ]
          },
          "metadata": {},
          "execution_count": 32
        }
      ]
    },
    {
      "cell_type": "code",
      "source": [
        "df_osten.head()"
      ],
      "metadata": {
        "colab": {
          "base_uri": "https://localhost:8080/",
          "height": 337
        },
        "id": "iYL9myjkNniT",
        "outputId": "85ffe740-2508-4d59-fb77-a2f4cb298b56"
      },
      "execution_count": 33,
      "outputs": [
        {
          "output_type": "execute_result",
          "data": {
            "text/plain": [
              "              Name                      Datum  \\\n",
              "0  @Brandenburg_LT  2022-09-22 09:57:00+00:00   \n",
              "1  @Brandenburg_LT  2022-09-20 09:14:02+00:00   \n",
              "2  @Brandenburg_LT  2022-09-19 10:47:51+00:00   \n",
              "3  @Brandenburg_LT  2022-09-19 08:45:15+00:00   \n",
              "4  @Brandenburg_LT  2022-09-19 06:28:10+00:00   \n",
              "\n",
              "                                              Inhalt  Label  \\\n",
              "0  der #petitionsausschuss des landtags #brandenb...      0   \n",
              "1  landtagssitzung(en) verpasst? 🫤\\n\\nin der @rbb...      0   \n",
              "2  im gedenken an königin #elizabethii sind die f...      0   \n",
              "3  landtagspräsidentin ulrike liedtke hat am woch...      0   \n",
              "4  rt @speakerpelosi: today, @g7 speakers visited...      0   \n",
              "\n",
              "                                           tokenized  \\\n",
              "0  [der, petitionsausschuss, des, landtags, brand...   \n",
              "1  [landtagssitzung, en, verpasst, in, der, media...   \n",
              "2  [im, gedenken, an, königin, elizabethii, sind,...   \n",
              "3  [landtagspräsidentin, ulrike, liedtke, hat, am...   \n",
              "4  [rt, speakerpelosi, today, speakers, visited, ...   \n",
              "\n",
              "                                    stopword_removed  \\\n",
              "0  [petitionsausschuss, nächste, september, komme...   \n",
              "1  [en, redebeiträge, abgeordneten, jederzeit, ru...   \n",
              "2  [gedenken, königin, elizabethii, flaggen, halb...   \n",
              "3  [wochenende, konferenz, parlamentspräsidentinn...   \n",
              "4  [today, speakers, visited, the, state, parliam...   \n",
              "\n",
              "                                      porter_stemmed  \\\n",
              "0  [petitionsausschuss, nächste, septemb, kommen,...   \n",
              "1  [en, redebeiträg, abgeordneten, jederzeit, run...   \n",
              "2  [gedenken, königin, elizabethii, flaggen, halb...   \n",
              "3  [wochenend, konferenz, parlamentspräsidentinne...   \n",
              "4  [today, speaker, visit, the, state, parliament...   \n",
              "\n",
              "                                            rejoined  \n",
              "0  petitionsausschuss nächste septemb kommen gern...  \n",
              "1  en redebeiträg abgeordneten jederzeit runtergu...  \n",
              "2  gedenken königin elizabethii flaggen halbmast ...  \n",
              "3  wochenend konferenz parlamentspräsidentinnen e...  \n",
              "4  today speaker visit the state parliament learn...  "
            ],
            "text/html": [
              "\n",
              "  <div id=\"df-aeb16ef3-8b98-42b4-8625-6bed6bb930a5\">\n",
              "    <div class=\"colab-df-container\">\n",
              "      <div>\n",
              "<style scoped>\n",
              "    .dataframe tbody tr th:only-of-type {\n",
              "        vertical-align: middle;\n",
              "    }\n",
              "\n",
              "    .dataframe tbody tr th {\n",
              "        vertical-align: top;\n",
              "    }\n",
              "\n",
              "    .dataframe thead th {\n",
              "        text-align: right;\n",
              "    }\n",
              "</style>\n",
              "<table border=\"1\" class=\"dataframe\">\n",
              "  <thead>\n",
              "    <tr style=\"text-align: right;\">\n",
              "      <th></th>\n",
              "      <th>Name</th>\n",
              "      <th>Datum</th>\n",
              "      <th>Inhalt</th>\n",
              "      <th>Label</th>\n",
              "      <th>tokenized</th>\n",
              "      <th>stopword_removed</th>\n",
              "      <th>porter_stemmed</th>\n",
              "      <th>rejoined</th>\n",
              "    </tr>\n",
              "  </thead>\n",
              "  <tbody>\n",
              "    <tr>\n",
              "      <th>0</th>\n",
              "      <td>@Brandenburg_LT</td>\n",
              "      <td>2022-09-22 09:57:00+00:00</td>\n",
              "      <td>der #petitionsausschuss des landtags #brandenb...</td>\n",
              "      <td>0</td>\n",
              "      <td>[der, petitionsausschuss, des, landtags, brand...</td>\n",
              "      <td>[petitionsausschuss, nächste, september, komme...</td>\n",
              "      <td>[petitionsausschuss, nächste, septemb, kommen,...</td>\n",
              "      <td>petitionsausschuss nächste septemb kommen gern...</td>\n",
              "    </tr>\n",
              "    <tr>\n",
              "      <th>1</th>\n",
              "      <td>@Brandenburg_LT</td>\n",
              "      <td>2022-09-20 09:14:02+00:00</td>\n",
              "      <td>landtagssitzung(en) verpasst? 🫤\\n\\nin der @rbb...</td>\n",
              "      <td>0</td>\n",
              "      <td>[landtagssitzung, en, verpasst, in, der, media...</td>\n",
              "      <td>[en, redebeiträge, abgeordneten, jederzeit, ru...</td>\n",
              "      <td>[en, redebeiträg, abgeordneten, jederzeit, run...</td>\n",
              "      <td>en redebeiträg abgeordneten jederzeit runtergu...</td>\n",
              "    </tr>\n",
              "    <tr>\n",
              "      <th>2</th>\n",
              "      <td>@Brandenburg_LT</td>\n",
              "      <td>2022-09-19 10:47:51+00:00</td>\n",
              "      <td>im gedenken an königin #elizabethii sind die f...</td>\n",
              "      <td>0</td>\n",
              "      <td>[im, gedenken, an, königin, elizabethii, sind,...</td>\n",
              "      <td>[gedenken, königin, elizabethii, flaggen, halb...</td>\n",
              "      <td>[gedenken, königin, elizabethii, flaggen, halb...</td>\n",
              "      <td>gedenken königin elizabethii flaggen halbmast ...</td>\n",
              "    </tr>\n",
              "    <tr>\n",
              "      <th>3</th>\n",
              "      <td>@Brandenburg_LT</td>\n",
              "      <td>2022-09-19 08:45:15+00:00</td>\n",
              "      <td>landtagspräsidentin ulrike liedtke hat am woch...</td>\n",
              "      <td>0</td>\n",
              "      <td>[landtagspräsidentin, ulrike, liedtke, hat, am...</td>\n",
              "      <td>[wochenende, konferenz, parlamentspräsidentinn...</td>\n",
              "      <td>[wochenend, konferenz, parlamentspräsidentinne...</td>\n",
              "      <td>wochenend konferenz parlamentspräsidentinnen e...</td>\n",
              "    </tr>\n",
              "    <tr>\n",
              "      <th>4</th>\n",
              "      <td>@Brandenburg_LT</td>\n",
              "      <td>2022-09-19 06:28:10+00:00</td>\n",
              "      <td>rt @speakerpelosi: today, @g7 speakers visited...</td>\n",
              "      <td>0</td>\n",
              "      <td>[rt, speakerpelosi, today, speakers, visited, ...</td>\n",
              "      <td>[today, speakers, visited, the, state, parliam...</td>\n",
              "      <td>[today, speaker, visit, the, state, parliament...</td>\n",
              "      <td>today speaker visit the state parliament learn...</td>\n",
              "    </tr>\n",
              "  </tbody>\n",
              "</table>\n",
              "</div>\n",
              "      <button class=\"colab-df-convert\" onclick=\"convertToInteractive('df-aeb16ef3-8b98-42b4-8625-6bed6bb930a5')\"\n",
              "              title=\"Convert this dataframe to an interactive table.\"\n",
              "              style=\"display:none;\">\n",
              "        \n",
              "  <svg xmlns=\"http://www.w3.org/2000/svg\" height=\"24px\"viewBox=\"0 0 24 24\"\n",
              "       width=\"24px\">\n",
              "    <path d=\"M0 0h24v24H0V0z\" fill=\"none\"/>\n",
              "    <path d=\"M18.56 5.44l.94 2.06.94-2.06 2.06-.94-2.06-.94-.94-2.06-.94 2.06-2.06.94zm-11 1L8.5 8.5l.94-2.06 2.06-.94-2.06-.94L8.5 2.5l-.94 2.06-2.06.94zm10 10l.94 2.06.94-2.06 2.06-.94-2.06-.94-.94-2.06-.94 2.06-2.06.94z\"/><path d=\"M17.41 7.96l-1.37-1.37c-.4-.4-.92-.59-1.43-.59-.52 0-1.04.2-1.43.59L10.3 9.45l-7.72 7.72c-.78.78-.78 2.05 0 2.83L4 21.41c.39.39.9.59 1.41.59.51 0 1.02-.2 1.41-.59l7.78-7.78 2.81-2.81c.8-.78.8-2.07 0-2.86zM5.41 20L4 18.59l7.72-7.72 1.47 1.35L5.41 20z\"/>\n",
              "  </svg>\n",
              "      </button>\n",
              "      \n",
              "  <style>\n",
              "    .colab-df-container {\n",
              "      display:flex;\n",
              "      flex-wrap:wrap;\n",
              "      gap: 12px;\n",
              "    }\n",
              "\n",
              "    .colab-df-convert {\n",
              "      background-color: #E8F0FE;\n",
              "      border: none;\n",
              "      border-radius: 50%;\n",
              "      cursor: pointer;\n",
              "      display: none;\n",
              "      fill: #1967D2;\n",
              "      height: 32px;\n",
              "      padding: 0 0 0 0;\n",
              "      width: 32px;\n",
              "    }\n",
              "\n",
              "    .colab-df-convert:hover {\n",
              "      background-color: #E2EBFA;\n",
              "      box-shadow: 0px 1px 2px rgba(60, 64, 67, 0.3), 0px 1px 3px 1px rgba(60, 64, 67, 0.15);\n",
              "      fill: #174EA6;\n",
              "    }\n",
              "\n",
              "    [theme=dark] .colab-df-convert {\n",
              "      background-color: #3B4455;\n",
              "      fill: #D2E3FC;\n",
              "    }\n",
              "\n",
              "    [theme=dark] .colab-df-convert:hover {\n",
              "      background-color: #434B5C;\n",
              "      box-shadow: 0px 1px 3px 1px rgba(0, 0, 0, 0.15);\n",
              "      filter: drop-shadow(0px 1px 2px rgba(0, 0, 0, 0.3));\n",
              "      fill: #FFFFFF;\n",
              "    }\n",
              "  </style>\n",
              "\n",
              "      <script>\n",
              "        const buttonEl =\n",
              "          document.querySelector('#df-aeb16ef3-8b98-42b4-8625-6bed6bb930a5 button.colab-df-convert');\n",
              "        buttonEl.style.display =\n",
              "          google.colab.kernel.accessAllowed ? 'block' : 'none';\n",
              "\n",
              "        async function convertToInteractive(key) {\n",
              "          const element = document.querySelector('#df-aeb16ef3-8b98-42b4-8625-6bed6bb930a5');\n",
              "          const dataTable =\n",
              "            await google.colab.kernel.invokeFunction('convertToInteractive',\n",
              "                                                     [key], {});\n",
              "          if (!dataTable) return;\n",
              "\n",
              "          const docLinkHtml = 'Like what you see? Visit the ' +\n",
              "            '<a target=\"_blank\" href=https://colab.research.google.com/notebooks/data_table.ipynb>data table notebook</a>'\n",
              "            + ' to learn more about interactive tables.';\n",
              "          element.innerHTML = '';\n",
              "          dataTable['output_type'] = 'display_data';\n",
              "          await google.colab.output.renderOutput(dataTable, element);\n",
              "          const docLink = document.createElement('div');\n",
              "          docLink.innerHTML = docLinkHtml;\n",
              "          element.appendChild(docLink);\n",
              "        }\n",
              "      </script>\n",
              "    </div>\n",
              "  </div>\n",
              "  "
            ]
          },
          "metadata": {},
          "execution_count": 33
        }
      ]
    },
    {
      "cell_type": "markdown",
      "source": [
        "# DataFrame herunterladen\n",
        "Um die DataFrame weiterzuverwenden laden wir sie erneut als csv-Dateien herunter."
      ],
      "metadata": {
        "id": "S91Mpk7Wu_1A"
      }
    },
    {
      "cell_type": "code",
      "source": [
        "df_westen.to_csv(index=False)\n",
        "\n",
        "compression_opts = dict(method='zip',\n",
        "                        archive_name='westen_prepro.csv')  \n",
        "df_westen.to_csv('westen_prepro.zip', index=False,\n",
        "          compression=compression_opts)"
      ],
      "metadata": {
        "id": "6w31fFp5vIdA"
      },
      "execution_count": 40,
      "outputs": []
    },
    {
      "cell_type": "code",
      "source": [
        "df_osten.to_csv(index=False)\n",
        "\n",
        "compression_opts = dict(method='zip',\n",
        "                        archive_name='osten_prepro.csv')  \n",
        "df_osten.to_csv('osten_prepro.zip', index=False,\n",
        "          compression=compression_opts)"
      ],
      "metadata": {
        "id": "xENUy83DvRvR"
      },
      "execution_count": 41,
      "outputs": []
    }
  ]
}