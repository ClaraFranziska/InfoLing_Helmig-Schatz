{
  "cells": [
    {
      "cell_type": "markdown",
      "source": [
        "# Tweepy holt uns die Twitter-Daten\n",
        "Damit wir die Tweets von Twitter herunterladen können benötigen wir die Python-Tweepy-Bibliothek. Diese installieren und importieren wir zunächst.\n",
        "Alles zu Tweepy: https://docs.tweepy.org/en/stable/index.html. "
      ],
      "metadata": {
        "id": "KfT_Vu_n4e8o"
      },
      "id": "KfT_Vu_n4e8o"
    },
    {
      "cell_type": "code",
      "execution_count": null,
      "id": "d8ff81a7-d6aa-4c2d-8159-54f0b7582f7b",
      "metadata": {
        "tags": [],
        "colab": {
          "base_uri": "https://localhost:8080/"
        },
        "id": "d8ff81a7-d6aa-4c2d-8159-54f0b7582f7b",
        "outputId": "35b6ef55-0423-489f-c9f6-201d07f8f68d"
      },
      "outputs": [
        {
          "output_type": "stream",
          "name": "stdout",
          "text": [
            "Looking in indexes: https://pypi.org/simple, https://us-python.pkg.dev/colab-wheels/public/simple/\n",
            "Requirement already satisfied: tweepy in /usr/local/lib/python3.7/dist-packages (3.10.0)\n",
            "Requirement already satisfied: six>=1.10.0 in /usr/local/lib/python3.7/dist-packages (from tweepy) (1.15.0)\n",
            "Requirement already satisfied: requests[socks]>=2.11.1 in /usr/local/lib/python3.7/dist-packages (from tweepy) (2.23.0)\n",
            "Requirement already satisfied: requests-oauthlib>=0.7.0 in /usr/local/lib/python3.7/dist-packages (from tweepy) (1.3.1)\n",
            "Requirement already satisfied: oauthlib>=3.0.0 in /usr/local/lib/python3.7/dist-packages (from requests-oauthlib>=0.7.0->tweepy) (3.2.0)\n",
            "Requirement already satisfied: urllib3!=1.25.0,!=1.25.1,<1.26,>=1.21.1 in /usr/local/lib/python3.7/dist-packages (from requests[socks]>=2.11.1->tweepy) (1.24.3)\n",
            "Requirement already satisfied: certifi>=2017.4.17 in /usr/local/lib/python3.7/dist-packages (from requests[socks]>=2.11.1->tweepy) (2022.6.15)\n",
            "Requirement already satisfied: idna<3,>=2.5 in /usr/local/lib/python3.7/dist-packages (from requests[socks]>=2.11.1->tweepy) (2.10)\n",
            "Requirement already satisfied: chardet<4,>=3.0.2 in /usr/local/lib/python3.7/dist-packages (from requests[socks]>=2.11.1->tweepy) (3.0.4)\n",
            "Requirement already satisfied: PySocks!=1.5.7,>=1.5.6 in /usr/local/lib/python3.7/dist-packages (from requests[socks]>=2.11.1->tweepy) (1.7.1)\n"
          ]
        }
      ],
      "source": [
        "pip install tweepy"
      ]
    },
    {
      "cell_type": "code",
      "execution_count": null,
      "id": "ca62fcda-44f4-4289-99f1-9fecf57dcb12",
      "metadata": {
        "id": "ca62fcda-44f4-4289-99f1-9fecf57dcb12"
      },
      "outputs": [],
      "source": [
        "import pandas as pd\n",
        "import tweepy as tweepy"
      ]
    },
    {
      "cell_type": "markdown",
      "source": [
        "Damit Tweepy uns die Twitter-Daten liefert brauchen wir einen Zugang der uns dazu berechtigt. Die Legitimation erhalten wir durch das Einsetzen unserer Keys und Tokens. Diese haben wir durch die Registrierung mithilfe eines Entwicklerkontos bei Twitter erhalten.\n",
        "Key und Token wurden im Folgenden geschwärzt."
      ],
      "metadata": {
        "id": "8VOlkNF05VSS"
      },
      "id": "8VOlkNF05VSS"
    },
    {
      "cell_type": "code",
      "execution_count": null,
      "id": "b1b847ca-9289-4244-bd12-80041ba48d90",
      "metadata": {
        "id": "b1b847ca-9289-4244-bd12-80041ba48d90"
      },
      "outputs": [],
      "source": [
        "consumer_key = \"xxxxxxx\"\n",
        "consumer_secret = \"xxxxxxxx\"\n",
        "access_token = \"xxxxxxxxxx\"\n",
        "access_token_secret = \"xxxxxxxxxx\""
      ]
    },
    {
      "cell_type": "markdown",
      "source": [
        "# Twitter-Daten laden\n",
        "Um die einzelnen Tweets der Accounts zu laden benötigen wir jeweils die Twitter-Account namen und setzen sie einzeln als Variable in 'screen_name' ein.\n",
        "Daamit man also alle Tweets der einzelnen Bundesländer herunterladen kann, muss man folgenden Code 16 mal mit verschiedenen 'screen_name's ausführen."
      ],
      "metadata": {
        "id": "QcY88R5k58QS"
      },
      "id": "QcY88R5k58QS"
    },
    {
      "cell_type": "markdown",
      "source": [
        "Hier das Beispiel anhand der Bundeslandes \"Baden-Württemberg\":"
      ],
      "metadata": {
        "id": "W6r9JJUw6Vcy"
      },
      "id": "W6r9JJUw6Vcy"
    },
    {
      "cell_type": "code",
      "execution_count": null,
      "id": "7e9fdc04-a463-436b-a52e-de8404758b5e",
      "metadata": {
        "id": "7e9fdc04-a463-436b-a52e-de8404758b5e"
      },
      "outputs": [],
      "source": [
        "screen_name=\"@RegierungBW\""
      ]
    },
    {
      "cell_type": "markdown",
      "source": [
        "Um den Zugriff auf die Twitter-Daten zu erhalten muss zunächst die **Authentifizierung** statt finden:"
      ],
      "metadata": {
        "id": "5x7ZYpqr6ip2"
      },
      "id": "5x7ZYpqr6ip2"
    },
    {
      "cell_type": "code",
      "execution_count": null,
      "id": "1859d8e2-e9ce-4d13-8214-f22deae68c33",
      "metadata": {
        "id": "1859d8e2-e9ce-4d13-8214-f22deae68c33"
      },
      "outputs": [],
      "source": [
        "auth = tweepy.OAuthHandler(consumer_key, consumer_secret)\n",
        "auth.set_access_token(access_token, access_token_secret)\n",
        "\n",
        "api = tweepy.API(auth)"
      ]
    },
    {
      "cell_type": "markdown",
      "source": [
        "Da wir alle vorhandenen Tweets der jeweiligen Account herunterladen wollten, ist es für unseren Fall nicht nötig nach einem bestimmten Zeitpunkt zu filten. Ebenso müssen wir keine Anzahl der herunterzuladenen Items angeben. Wir laden also den Accountnamen, das Datum an dem der Tweets erstellt wurde und den vollständigen Inhalt des Tweets herunter."
      ],
      "metadata": {
        "id": "94FBduWn6vnp"
      },
      "id": "94FBduWn6vnp"
    },
    {
      "cell_type": "markdown",
      "source": [
        "Wir haben uns für 'tweepy.Cursor(api.user_timeline)' entschieden, da hier problemlos alle vollständigen Tweets heruntergeladen werden konnten. Andere model haben teilweise fehlerhafte bzw. nicht ausreichende Daten geliefert."
      ],
      "metadata": {
        "id": "QII-CHIN8nVH"
      },
      "id": "QII-CHIN8nVH"
    },
    {
      "cell_type": "code",
      "execution_count": null,
      "id": "f64202b2-9c1e-490b-8567-8f1e8bf27a71",
      "metadata": {
        "id": "f64202b2-9c1e-490b-8567-8f1e8bf27a71"
      },
      "outputs": [],
      "source": [
        "tweets=[[screen_name, status.created_at, status.full_text] for status in tweepy.Cursor(api.user_timeline, screen_name=screen_name, tweet_mode=\"extended\").items()]"
      ]
    },
    {
      "cell_type": "markdown",
      "source": [
        "# Twitter Daten darstellen\n",
        "Für unsere Zwecke haben wir einen leerern DataFrame erstellt, der die für uns wichtigen Spalten: Name, Datum, Inhalt enthält. In diese werden nun die heruntergeladenen Daten eingelesen."
      ],
      "metadata": {
        "id": "CwdVQqu-6_XY"
      },
      "id": "CwdVQqu-6_XY"
    },
    {
      "cell_type": "code",
      "execution_count": null,
      "id": "ddeef04a-02eb-4143-8e28-6c81e867fb81",
      "metadata": {
        "id": "ddeef04a-02eb-4143-8e28-6c81e867fb81"
      },
      "outputs": [],
      "source": [
        "df = pd.DataFrame(tweets, columns = ['Name', 'Datum', 'Inhalt'])"
      ]
    },
    {
      "cell_type": "markdown",
      "source": [
        "# Tweets speichern\n",
        "\n",
        "Damit wir mit den Tweets arbeiten können, wird der DataFrame als csv-Datei gespeichert und als zip-Datei heruntergeladen. Damit haben wir ein Datenformat, mit dem problemlos weitergearbeitet werden kann.\n",
        "\n",
        "Folgender Codeteil aus: https://pandas.pydata.org/docs/reference/api/pandas.DataFrame.to_csv.html. "
      ],
      "metadata": {
        "id": "k1667GvT7xay"
      },
      "id": "k1667GvT7xay"
    },
    {
      "cell_type": "code",
      "execution_count": null,
      "id": "078079ad-381f-487c-8278-2374c6ca72ca",
      "metadata": {
        "id": "078079ad-381f-487c-8278-2374c6ca72ca"
      },
      "outputs": [],
      "source": [
        "from pathlib import Path  \n"
      ]
    },
    {
      "cell_type": "code",
      "execution_count": null,
      "id": "619cad36-5e42-443e-8f0a-c08b4b8c5936",
      "metadata": {
        "id": "619cad36-5e42-443e-8f0a-c08b4b8c5936"
      },
      "outputs": [],
      "source": [
        "df.to_csv(index=False)\n",
        "\n",
        "compression_opts = dict(method='zip',\n",
        "                        archive_name='BadenWürttemberg.csv')  \n",
        "df.to_csv('BadenWürttemberg.zip', index=False,\n",
        "          compression=compression_opts)\n",
        "\n",
        "filepath = Path('TwitterDaten/BadenWürttemberg.zip')  \n",
        "filepath.parent.mkdir(parents=True, exist_ok=True)  \n",
        "df.to_csv(filepath)"
      ]
    },
    {
      "cell_type": "code",
      "execution_count": null,
      "id": "9c4fcfe7-e639-48d6-ab23-4821688e885f",
      "metadata": {
        "id": "9c4fcfe7-e639-48d6-ab23-4821688e885f"
      },
      "outputs": [],
      "source": []
    }
  ],
  "metadata": {
    "kernelspec": {
      "display_name": "Python 3 (ipykernel)",
      "language": "python",
      "name": "python3"
    },
    "language_info": {
      "codemirror_mode": {
        "name": "ipython",
        "version": 3
      },
      "file_extension": ".py",
      "mimetype": "text/x-python",
      "name": "python",
      "nbconvert_exporter": "python",
      "pygments_lexer": "ipython3",
      "version": "3.9.13"
    },
    "colab": {
      "provenance": [],
      "toc_visible": true
    }
  },
  "nbformat": 4,
  "nbformat_minor": 5
}