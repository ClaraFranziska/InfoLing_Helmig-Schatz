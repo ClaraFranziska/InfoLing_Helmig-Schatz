{
  "cells": [
    {
      "cell_type": "markdown",
      "source": [
        "# Tweets Zusammenfügen\n",
        "Damit wir mit den Tweets etwas anfangen können, brauchen wir einen großen DataFrame für die West-, und einen DataFrame für die Ost-Tweets."
      ],
      "metadata": {
        "id": "QrbxvEHLBkei"
      },
      "id": "QrbxvEHLBkei"
    },
    {
      "cell_type": "code",
      "execution_count": null,
      "id": "a33da330-aeba-4214-ae2b-2d915e4fcbc0",
      "metadata": {
        "id": "a33da330-aeba-4214-ae2b-2d915e4fcbc0"
      },
      "outputs": [],
      "source": [
        "import pandas as pd"
      ]
    },
    {
      "cell_type": "markdown",
      "source": [
        "# Tweets der alten Bundesländer"
      ],
      "metadata": {
        "id": "wS9qb_XqCG4V"
      },
      "id": "wS9qb_XqCG4V"
    },
    {
      "cell_type": "markdown",
      "source": [
        "Wir laden alle Tweets der alten Bundesländer"
      ],
      "metadata": {
        "id": "nH5A1l_8BwlO"
      },
      "id": "nH5A1l_8BwlO"
    },
    {
      "cell_type": "code",
      "execution_count": null,
      "id": "38f2f17c-0bba-498c-9a89-13833bb8ab3e",
      "metadata": {
        "id": "38f2f17c-0bba-498c-9a89-13833bb8ab3e"
      },
      "outputs": [],
      "source": [
        "lt1=pd.read_csv('BadenWürttemberg.zip')\n",
        "lt2=pd.read_csv('Bayern.zip')\n",
        "lt3=pd.read_csv('Berlin.zip')\n",
        "lt4=pd.read_csv('Bremen.zip')\n",
        "lt5=pd.read_csv('Hamburg.zip')\n",
        "lt6=pd.read_csv('Hessen.zip')\n",
        "lt7=pd.read_csv('NDS.zip')\n",
        "lt8=pd.read_csv('NRW.zip')\n",
        "lt9=pd.read_csv('RLP.zip')\n",
        "lt10=pd.read_csv('Saarland.zip')\n",
        "lt11=pd.read_csv('SchleswigHolstein.zip')\n"
      ]
    },
    {
      "cell_type": "markdown",
      "source": [
        "Im Anschluss kreieren wir einen großen DataFrame indem wir immer ein weiteres Bundesland anhängen.\n",
        "Womöglich geht das mit einer Schleife oder Ähnlichem einfacher, aber für uns war das die schnellste und effizienteste Methode"
      ],
      "metadata": {
        "id": "vJSnJnEdB1G0"
      },
      "id": "vJSnJnEdB1G0"
    },
    {
      "cell_type": "code",
      "execution_count": null,
      "id": "78fd8a0a-bf40-47e1-be17-c881516f2bba",
      "metadata": {
        "tags": [],
        "id": "78fd8a0a-bf40-47e1-be17-c881516f2bba",
        "outputId": "c9ddbcf9-b35a-4e89-899c-ba7a9fe9deb7"
      },
      "outputs": [
        {
          "name": "stderr",
          "output_type": "stream",
          "text": [
            "/tmp/ipykernel_47/2538126248.py:1: FutureWarning: The frame.append method is deprecated and will be removed from pandas in a future version. Use pandas.concat instead.\n",
            "  df1_2=lt1.append(lt2)\n"
          ]
        }
      ],
      "source": [
        "df1_2=lt1.append(lt2)"
      ]
    },
    {
      "cell_type": "code",
      "execution_count": null,
      "id": "33b9f116-f3f5-4660-a67c-d70113715f3e",
      "metadata": {
        "tags": [],
        "id": "33b9f116-f3f5-4660-a67c-d70113715f3e",
        "outputId": "fc990636-502c-43a2-c39d-18559f1266d7"
      },
      "outputs": [
        {
          "name": "stderr",
          "output_type": "stream",
          "text": [
            "/tmp/ipykernel_47/3925665170.py:1: FutureWarning: The frame.append method is deprecated and will be removed from pandas in a future version. Use pandas.concat instead.\n",
            "  df1_3=df1_2.append(lt3)\n"
          ]
        }
      ],
      "source": [
        "df1_3=df1_2.append(lt3)"
      ]
    },
    {
      "cell_type": "code",
      "execution_count": null,
      "id": "8e285352-820a-4219-a650-c549d26d7f7f",
      "metadata": {
        "tags": [],
        "id": "8e285352-820a-4219-a650-c549d26d7f7f",
        "outputId": "3bc84baa-8e24-4299-bdd5-7334a375da4a"
      },
      "outputs": [
        {
          "name": "stderr",
          "output_type": "stream",
          "text": [
            "/tmp/ipykernel_47/3814734145.py:1: FutureWarning: The frame.append method is deprecated and will be removed from pandas in a future version. Use pandas.concat instead.\n",
            "  df1_4=df1_3.append(lt4)\n",
            "/tmp/ipykernel_47/3814734145.py:2: FutureWarning: The frame.append method is deprecated and will be removed from pandas in a future version. Use pandas.concat instead.\n",
            "  df1_5=df1_4.append(lt5)\n",
            "/tmp/ipykernel_47/3814734145.py:3: FutureWarning: The frame.append method is deprecated and will be removed from pandas in a future version. Use pandas.concat instead.\n",
            "  df1_6=df1_5.append(lt6)\n",
            "/tmp/ipykernel_47/3814734145.py:4: FutureWarning: The frame.append method is deprecated and will be removed from pandas in a future version. Use pandas.concat instead.\n",
            "  df1_7=df1_6.append(lt7)\n",
            "/tmp/ipykernel_47/3814734145.py:5: FutureWarning: The frame.append method is deprecated and will be removed from pandas in a future version. Use pandas.concat instead.\n",
            "  df1_8=df1_7.append(lt8)\n",
            "/tmp/ipykernel_47/3814734145.py:6: FutureWarning: The frame.append method is deprecated and will be removed from pandas in a future version. Use pandas.concat instead.\n",
            "  df1_9=df1_8.append(lt9)\n",
            "/tmp/ipykernel_47/3814734145.py:7: FutureWarning: The frame.append method is deprecated and will be removed from pandas in a future version. Use pandas.concat instead.\n",
            "  df1_10=df1_9.append(lt10)\n",
            "/tmp/ipykernel_47/3814734145.py:8: FutureWarning: The frame.append method is deprecated and will be removed from pandas in a future version. Use pandas.concat instead.\n",
            "  df1_11=df1_10.append(lt11)\n"
          ]
        }
      ],
      "source": [
        "df1_4=df1_3.append(lt4)\n",
        "df1_5=df1_4.append(lt5)\n",
        "df1_6=df1_5.append(lt6)\n",
        "df1_7=df1_6.append(lt7)\n",
        "df1_8=df1_7.append(lt8)\n",
        "df1_9=df1_8.append(lt9)\n",
        "df1_10=df1_9.append(lt10)\n",
        "df1_11=df1_10.append(lt11)"
      ]
    },
    {
      "cell_type": "markdown",
      "source": [
        "Wir bennenen unseren DataFrame für die alten Bundesländer um, in 'df_westen'."
      ],
      "metadata": {
        "id": "_a0IpGNoCLGB"
      },
      "id": "_a0IpGNoCLGB"
    },
    {
      "cell_type": "code",
      "execution_count": null,
      "id": "bb84e565-dc99-496b-808e-b3e749d7ca4e",
      "metadata": {
        "id": "bb84e565-dc99-496b-808e-b3e749d7ca4e"
      },
      "outputs": [],
      "source": [
        "df_westen=df1_11"
      ]
    },
    {
      "cell_type": "markdown",
      "source": [
        "Wir können uns den DataFrame ansehen, um eine Vorstellung davon zu bekommen, wie groß dieser jetzt ist."
      ],
      "metadata": {
        "id": "TYZe4cObCQ0K"
      },
      "id": "TYZe4cObCQ0K"
    },
    {
      "cell_type": "code",
      "execution_count": null,
      "id": "f563d001-0fef-41bb-aeb2-cb58f75cbef0",
      "metadata": {
        "id": "f563d001-0fef-41bb-aeb2-cb58f75cbef0",
        "outputId": "9a0e89fc-0017-4761-f95f-8665480acf47"
      },
      "outputs": [
        {
          "data": {
            "text/plain": [
              "<bound method NDFrame.head of               Name                      Datum  \\\n",
              "0     @RegierungBW  2022-09-22 07:45:03+00:00   \n",
              "1     @RegierungBW  2022-09-22 07:31:26+00:00   \n",
              "2     @RegierungBW  2022-09-22 06:59:09+00:00   \n",
              "3     @RegierungBW  2022-09-21 11:52:04+00:00   \n",
              "4     @RegierungBW  2022-09-21 11:33:38+00:00   \n",
              "...            ...                        ...   \n",
              "3246     @ParlaNet  2020-12-10 17:09:32+00:00   \n",
              "3247     @ParlaNet  2020-12-10 16:59:32+00:00   \n",
              "3248     @ParlaNet  2020-12-10 16:52:51+00:00   \n",
              "3249     @ParlaNet  2020-12-10 16:48:02+00:00   \n",
              "3250     @ParlaNet  2020-12-10 16:47:19+00:00   \n",
              "\n",
              "                                                 Inhalt  \n",
              "0     @Schwabenhelga natürlich hat nicht jeder das G...  \n",
              "1     In manchem Keller verstecken sich wahre #Strom...  \n",
              "2     Auf unserem #Beteiligunsgsportal können Sie si...  \n",
              "3     @martinruff1 @UmweltBW Konkrete Ausbauziele fü...  \n",
              "4     Wir feiern unser #Juhubiläum mit #70Jahre70Köp...  \n",
              "...                                                 ...  \n",
              "3246  #LTSH #FDP Kay Richert zu TOP 33 „Zusammenarbe...  \n",
              "3247  #LTSH #SPD REDE FÜRS PROTOKOLL! Serpil Midyatl...  \n",
              "3248  #LTSH #SSW Christian Dirschauer: Wir erkennen ...  \n",
              "3249  #LTSH #GRUENE Marret Bohn zum Landeskrankenhau...  \n",
              "3250  #LTSH #SPD Birte Pauls zu TOP 15: Säuglinge be...  \n",
              "\n",
              "[30448 rows x 3 columns]>"
            ]
          },
          "execution_count": 7,
          "metadata": {},
          "output_type": "execute_result"
        }
      ],
      "source": [
        "df_westen.head"
      ]
    },
    {
      "cell_type": "markdown",
      "source": [
        "Im Anschluss daran laden wir die Daten wieder als zip-csv Datei herunter."
      ],
      "metadata": {
        "id": "UtxXI-BPCX-X"
      },
      "id": "UtxXI-BPCX-X"
    },
    {
      "cell_type": "code",
      "execution_count": null,
      "id": "6c2d394a-de73-4e48-92c6-c01908a19732",
      "metadata": {
        "id": "6c2d394a-de73-4e48-92c6-c01908a19732"
      },
      "outputs": [],
      "source": [
        "df_westen.to_csv(index=False)\n",
        "\n",
        "compression_opts = dict(method='zip',\n",
        "                        archive_name='tweets_westen.csv')  \n",
        "df_westen.to_csv('tweets_westen.zip', index=False,\n",
        "          compression=compression_opts)"
      ]
    },
    {
      "cell_type": "markdown",
      "source": [
        "Hier überprüfen wir kurz, ob bei der Methode oben auch keine Daten verloren gegenagen sind."
      ],
      "metadata": {
        "id": "qz-v-RhRCdCg"
      },
      "id": "qz-v-RhRCdCg"
    },
    {
      "cell_type": "code",
      "execution_count": null,
      "id": "08c62fdf-8ecc-4e69-8b8a-a414a7faff40",
      "metadata": {
        "id": "08c62fdf-8ecc-4e69-8b8a-a414a7faff40",
        "outputId": "fa8f4804-3677-4d6f-b31d-94bd098edec3"
      },
      "outputs": [
        {
          "name": "stdout",
          "output_type": "stream",
          "text": [
            "30448 tweets\n"
          ]
        }
      ],
      "source": [
        "länge=pd.read_csv('tweets_westen.zip')\n",
        "print(len(länge), 'tweets')"
      ]
    },
    {
      "cell_type": "markdown",
      "source": [
        "# Tweets der neuen Bundesländer\n",
        "Die Schritte, die wir oben bei den alten Bundesländer gemacht haben, werden hier mit den anderen Daten wiederholt."
      ],
      "metadata": {
        "id": "5bocNzVzCirT"
      },
      "id": "5bocNzVzCirT"
    },
    {
      "cell_type": "code",
      "execution_count": null,
      "id": "0f148a65-b8a0-4306-868a-e2c09c343024",
      "metadata": {
        "id": "0f148a65-b8a0-4306-868a-e2c09c343024"
      },
      "outputs": [],
      "source": [
        "lt12=pd.read_csv('Brandenburg.zip')\n",
        "lt13=pd.read_csv('ManuelaSchwesig_MV.zip')\n",
        "lt14=pd.read_csv('Sachsen.zip')\n",
        "lt15=pd.read_csv('SachsenAnhalt.zip')\n",
        "lt16=pd.read_csv('Thueringen.zip')"
      ]
    },
    {
      "cell_type": "code",
      "execution_count": null,
      "id": "030f3ecf-f8bf-490e-b4a6-4023f594e555",
      "metadata": {
        "id": "030f3ecf-f8bf-490e-b4a6-4023f594e555",
        "outputId": "5c1efab7-8eab-4d7b-d796-13ac8301eb6d"
      },
      "outputs": [
        {
          "name": "stderr",
          "output_type": "stream",
          "text": [
            "/tmp/ipykernel_47/3873504463.py:1: FutureWarning: The frame.append method is deprecated and will be removed from pandas in a future version. Use pandas.concat instead.\n",
            "  df12_13=lt12.append(lt13)\n",
            "/tmp/ipykernel_47/3873504463.py:2: FutureWarning: The frame.append method is deprecated and will be removed from pandas in a future version. Use pandas.concat instead.\n",
            "  df12_14=df12_13.append(lt14)\n",
            "/tmp/ipykernel_47/3873504463.py:3: FutureWarning: The frame.append method is deprecated and will be removed from pandas in a future version. Use pandas.concat instead.\n",
            "  df12_15=df12_14.append(lt15)\n",
            "/tmp/ipykernel_47/3873504463.py:4: FutureWarning: The frame.append method is deprecated and will be removed from pandas in a future version. Use pandas.concat instead.\n",
            "  df12_16=df12_15.append(lt16)\n"
          ]
        }
      ],
      "source": [
        "df12_13=lt12.append(lt13)\n",
        "df12_14=df12_13.append(lt14)\n",
        "df12_15=df12_14.append(lt15)\n",
        "df12_16=df12_15.append(lt16)\n"
      ]
    },
    {
      "cell_type": "code",
      "execution_count": null,
      "id": "bf522545-5c55-4fde-8f6f-d6a2044ab3f3",
      "metadata": {
        "id": "bf522545-5c55-4fde-8f6f-d6a2044ab3f3",
        "outputId": "ff6a2ae8-bb49-42f6-df80-463ca01a1f30"
      },
      "outputs": [
        {
          "data": {
            "text/plain": [
              "<bound method NDFrame.head of                  Name                      Datum  \\\n",
              "0     @Brandenburg_LT  2022-09-22 09:57:00+00:00   \n",
              "1     @Brandenburg_LT  2022-09-20 09:14:02+00:00   \n",
              "2     @Brandenburg_LT  2022-09-19 10:47:51+00:00   \n",
              "3     @Brandenburg_LT  2022-09-19 08:45:15+00:00   \n",
              "4     @Brandenburg_LT  2022-09-19 06:28:10+00:00   \n",
              "...               ...                        ...   \n",
              "3239    @ThuerLandtag  2018-08-21 08:38:04+00:00   \n",
              "3240    @ThuerLandtag  2018-08-21 08:38:00+00:00   \n",
              "3241    @ThuerLandtag  2018-08-21 07:09:01+00:00   \n",
              "3242    @ThuerLandtag  2018-08-21 06:36:40+00:00   \n",
              "3243    @ThuerLandtag  2018-08-20 14:21:31+00:00   \n",
              "\n",
              "                                                 Inhalt  \n",
              "0     Der #Petitionsausschuss des Landtags #Brandenb...  \n",
              "1     Landtagssitzung(en) verpasst? 🫤\\n\\nIn der @rbb...  \n",
              "2     Im Gedenken an Königin #ElizabethII sind die F...  \n",
              "3     Landtagspräsidentin Ulrike Liedtke hat am Woch...  \n",
              "4     RT @SpeakerPelosi: Today, @G7 Speakers visited...  \n",
              "...                                                 ...  \n",
              "3239  RT @LPK_Thueringen: 1/1 LPK-Jour Fixe mit den ...  \n",
              "3240  RT @LPK_Thueringen: 1/2 LPK-Jour Fixe mit den ...  \n",
              "3241  @PaparazzoOrange Ja, die Dr.S. 6/5479 fehlte w...  \n",
              "3242  @PaparazzoOrange Hm, ja, das ist ja schon etwa...  \n",
              "3243  RT @TKinTH: Mit dabei sind Präsident @ThuerLan...  \n",
              "\n",
              "[10965 rows x 3 columns]>"
            ]
          },
          "execution_count": 12,
          "metadata": {},
          "output_type": "execute_result"
        }
      ],
      "source": [
        "df_osten=df12_16\n",
        "df_osten.head"
      ]
    },
    {
      "cell_type": "code",
      "execution_count": null,
      "id": "835fd462-1fd7-4146-bdd6-8a2501149cc6",
      "metadata": {
        "id": "835fd462-1fd7-4146-bdd6-8a2501149cc6"
      },
      "outputs": [],
      "source": [
        "df_osten.to_csv(index=False)\n",
        "\n",
        "compression_opts = dict(method='zip',\n",
        "                        archive_name='tweets_osten.csv')  \n",
        "df_osten.to_csv('tweets_osten.zip', index=False,\n",
        "          compression=compression_opts)"
      ]
    },
    {
      "cell_type": "code",
      "execution_count": null,
      "id": "21d835da-8a73-4f26-a5c1-87ee7b71bddd",
      "metadata": {
        "id": "21d835da-8a73-4f26-a5c1-87ee7b71bddd",
        "outputId": "c0f9ade4-6b45-4880-9c04-09a76fdb7a00"
      },
      "outputs": [
        {
          "name": "stdout",
          "output_type": "stream",
          "text": [
            "10965 tweets\n"
          ]
        }
      ],
      "source": [
        "länge2=pd.read_csv('tweets_osten.zip')\n",
        "print(len(länge2), 'tweets')"
      ]
    },
    {
      "cell_type": "code",
      "execution_count": null,
      "id": "c3d1a49b-4c51-46bd-8407-af2f9d2fe0ea",
      "metadata": {
        "id": "c3d1a49b-4c51-46bd-8407-af2f9d2fe0ea"
      },
      "outputs": [],
      "source": []
    }
  ],
  "metadata": {
    "kernelspec": {
      "display_name": "Python 3 (ipykernel)",
      "language": "python",
      "name": "python3"
    },
    "language_info": {
      "codemirror_mode": {
        "name": "ipython",
        "version": 3
      },
      "file_extension": ".py",
      "mimetype": "text/x-python",
      "name": "python",
      "nbconvert_exporter": "python",
      "pygments_lexer": "ipython3",
      "version": "3.9.13"
    },
    "colab": {
      "provenance": [],
      "toc_visible": true
    }
  },
  "nbformat": 4,
  "nbformat_minor": 5
}